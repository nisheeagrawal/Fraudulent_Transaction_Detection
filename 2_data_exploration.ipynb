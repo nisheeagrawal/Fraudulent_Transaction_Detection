{
 "cells": [
  {
   "cell_type": "code",
   "execution_count": 65,
   "metadata": {},
   "outputs": [],
   "source": [
    "import pandas as pd\n",
    "import numpy as np\n",
    "import gc\n",
    "import matplotlib.pyplot as plt"
   ]
  },
  {
   "cell_type": "markdown",
   "metadata": {},
   "source": [
    "Reading the entire file into memory requires more RAM, since in-memory representation can easily become much larger than available RAM. So we're reading a fraction of axis items (21 percent)"
   ]
  },
  {
   "cell_type": "code",
   "execution_count": 66,
   "metadata": {},
   "outputs": [],
   "source": [
    "df = pd.read_csv('datasets_cleaned/final_train.csv',index_col='TransactionID').sample(frac =.21)"
   ]
  },
  {
   "cell_type": "code",
   "execution_count": 67,
   "metadata": {},
   "outputs": [
    {
     "data": {
      "text/html": [
       "<div>\n",
       "<style scoped>\n",
       "    .dataframe tbody tr th:only-of-type {\n",
       "        vertical-align: middle;\n",
       "    }\n",
       "\n",
       "    .dataframe tbody tr th {\n",
       "        vertical-align: top;\n",
       "    }\n",
       "\n",
       "    .dataframe thead th {\n",
       "        text-align: right;\n",
       "    }\n",
       "</style>\n",
       "<table border=\"1\" class=\"dataframe\">\n",
       "  <thead>\n",
       "    <tr style=\"text-align: right;\">\n",
       "      <th></th>\n",
       "      <th>Unnamed: 0</th>\n",
       "      <th>Unnamed: 0.1</th>\n",
       "      <th>isFraud</th>\n",
       "      <th>TransactionDT</th>\n",
       "      <th>TransactionAmt</th>\n",
       "      <th>ProductCD</th>\n",
       "      <th>card1</th>\n",
       "      <th>card2</th>\n",
       "      <th>card3</th>\n",
       "      <th>card4</th>\n",
       "      <th>...</th>\n",
       "      <th>id_29</th>\n",
       "      <th>id_30</th>\n",
       "      <th>id_31</th>\n",
       "      <th>id_32</th>\n",
       "      <th>id_33</th>\n",
       "      <th>id_34</th>\n",
       "      <th>id_35</th>\n",
       "      <th>id_36</th>\n",
       "      <th>id_37</th>\n",
       "      <th>id_38</th>\n",
       "    </tr>\n",
       "    <tr>\n",
       "      <th>TransactionID</th>\n",
       "      <th></th>\n",
       "      <th></th>\n",
       "      <th></th>\n",
       "      <th></th>\n",
       "      <th></th>\n",
       "      <th></th>\n",
       "      <th></th>\n",
       "      <th></th>\n",
       "      <th></th>\n",
       "      <th></th>\n",
       "      <th></th>\n",
       "      <th></th>\n",
       "      <th></th>\n",
       "      <th></th>\n",
       "      <th></th>\n",
       "      <th></th>\n",
       "      <th></th>\n",
       "      <th></th>\n",
       "      <th></th>\n",
       "      <th></th>\n",
       "      <th></th>\n",
       "    </tr>\n",
       "  </thead>\n",
       "  <tbody>\n",
       "    <tr>\n",
       "      <th>3348902</th>\n",
       "      <td>361902</td>\n",
       "      <td>361902</td>\n",
       "      <td>0</td>\n",
       "      <td>8975746</td>\n",
       "      <td>77.000</td>\n",
       "      <td>W</td>\n",
       "      <td>2884</td>\n",
       "      <td>490.0</td>\n",
       "      <td>150.0</td>\n",
       "      <td>visa</td>\n",
       "      <td>...</td>\n",
       "      <td>Found</td>\n",
       "      <td>Windows 10</td>\n",
       "      <td>chrome 63.0</td>\n",
       "      <td>26.508597</td>\n",
       "      <td>1920x1080</td>\n",
       "      <td>match_status:2</td>\n",
       "      <td>T</td>\n",
       "      <td>F</td>\n",
       "      <td>T</td>\n",
       "      <td>F</td>\n",
       "    </tr>\n",
       "    <tr>\n",
       "      <th>3212893</th>\n",
       "      <td>225893</td>\n",
       "      <td>225893</td>\n",
       "      <td>1</td>\n",
       "      <td>5340867</td>\n",
       "      <td>77.000</td>\n",
       "      <td>W</td>\n",
       "      <td>9500</td>\n",
       "      <td>321.0</td>\n",
       "      <td>150.0</td>\n",
       "      <td>visa</td>\n",
       "      <td>...</td>\n",
       "      <td>Found</td>\n",
       "      <td>Windows 10</td>\n",
       "      <td>chrome 63.0</td>\n",
       "      <td>26.508597</td>\n",
       "      <td>1920x1080</td>\n",
       "      <td>match_status:2</td>\n",
       "      <td>T</td>\n",
       "      <td>F</td>\n",
       "      <td>T</td>\n",
       "      <td>F</td>\n",
       "    </tr>\n",
       "    <tr>\n",
       "      <th>3067388</th>\n",
       "      <td>80388</td>\n",
       "      <td>80388</td>\n",
       "      <td>0</td>\n",
       "      <td>1728582</td>\n",
       "      <td>50.000</td>\n",
       "      <td>H</td>\n",
       "      <td>17933</td>\n",
       "      <td>512.0</td>\n",
       "      <td>150.0</td>\n",
       "      <td>visa</td>\n",
       "      <td>...</td>\n",
       "      <td>NotFound</td>\n",
       "      <td>Windows 7</td>\n",
       "      <td>chrome 63.0</td>\n",
       "      <td>24.000000</td>\n",
       "      <td>1280x1024</td>\n",
       "      <td>match_status:2</td>\n",
       "      <td>T</td>\n",
       "      <td>F</td>\n",
       "      <td>T</td>\n",
       "      <td>T</td>\n",
       "    </tr>\n",
       "    <tr>\n",
       "      <th>3265894</th>\n",
       "      <td>278894</td>\n",
       "      <td>278894</td>\n",
       "      <td>0</td>\n",
       "      <td>6799059</td>\n",
       "      <td>14.138</td>\n",
       "      <td>C</td>\n",
       "      <td>2877</td>\n",
       "      <td>141.0</td>\n",
       "      <td>185.0</td>\n",
       "      <td>visa</td>\n",
       "      <td>...</td>\n",
       "      <td>Found</td>\n",
       "      <td>Windows 10</td>\n",
       "      <td>chrome 63.0</td>\n",
       "      <td>26.508597</td>\n",
       "      <td>1920x1080</td>\n",
       "      <td>match_status:2</td>\n",
       "      <td>T</td>\n",
       "      <td>F</td>\n",
       "      <td>T</td>\n",
       "      <td>F</td>\n",
       "    </tr>\n",
       "    <tr>\n",
       "      <th>3275758</th>\n",
       "      <td>288758</td>\n",
       "      <td>288758</td>\n",
       "      <td>0</td>\n",
       "      <td>7094495</td>\n",
       "      <td>150.000</td>\n",
       "      <td>R</td>\n",
       "      <td>2616</td>\n",
       "      <td>327.0</td>\n",
       "      <td>150.0</td>\n",
       "      <td>discover</td>\n",
       "      <td>...</td>\n",
       "      <td>NotFound</td>\n",
       "      <td>iOS</td>\n",
       "      <td>mobile safari generic</td>\n",
       "      <td>32.000000</td>\n",
       "      <td>2048x1536</td>\n",
       "      <td>match_status:1</td>\n",
       "      <td>T</td>\n",
       "      <td>F</td>\n",
       "      <td>F</td>\n",
       "      <td>T</td>\n",
       "    </tr>\n",
       "  </tbody>\n",
       "</table>\n",
       "<p>5 rows × 240 columns</p>\n",
       "</div>"
      ],
      "text/plain": [
       "               Unnamed: 0  Unnamed: 0.1  isFraud  TransactionDT  \\\n",
       "TransactionID                                                     \n",
       "3348902            361902        361902        0        8975746   \n",
       "3212893            225893        225893        1        5340867   \n",
       "3067388             80388         80388        0        1728582   \n",
       "3265894            278894        278894        0        6799059   \n",
       "3275758            288758        288758        0        7094495   \n",
       "\n",
       "               TransactionAmt ProductCD  card1  card2  card3     card4  ...  \\\n",
       "TransactionID                                                           ...   \n",
       "3348902                77.000         W   2884  490.0  150.0      visa  ...   \n",
       "3212893                77.000         W   9500  321.0  150.0      visa  ...   \n",
       "3067388                50.000         H  17933  512.0  150.0      visa  ...   \n",
       "3265894                14.138         C   2877  141.0  185.0      visa  ...   \n",
       "3275758               150.000         R   2616  327.0  150.0  discover  ...   \n",
       "\n",
       "                  id_29       id_30                  id_31      id_32  \\\n",
       "TransactionID                                                           \n",
       "3348902           Found  Windows 10            chrome 63.0  26.508597   \n",
       "3212893           Found  Windows 10            chrome 63.0  26.508597   \n",
       "3067388        NotFound   Windows 7            chrome 63.0  24.000000   \n",
       "3265894           Found  Windows 10            chrome 63.0  26.508597   \n",
       "3275758        NotFound         iOS  mobile safari generic  32.000000   \n",
       "\n",
       "                   id_33           id_34  id_35  id_36  id_37  id_38  \n",
       "TransactionID                                                         \n",
       "3348902        1920x1080  match_status:2      T      F      T      F  \n",
       "3212893        1920x1080  match_status:2      T      F      T      F  \n",
       "3067388        1280x1024  match_status:2      T      F      T      T  \n",
       "3265894        1920x1080  match_status:2      T      F      T      F  \n",
       "3275758        2048x1536  match_status:1      T      F      F      T  \n",
       "\n",
       "[5 rows x 240 columns]"
      ]
     },
     "execution_count": 67,
     "metadata": {},
     "output_type": "execute_result"
    }
   ],
   "source": [
    "df.head()"
   ]
  },
  {
   "cell_type": "code",
   "execution_count": 68,
   "metadata": {},
   "outputs": [],
   "source": [
    "df.drop(['Unnamed: 0','Unnamed: 0.1'],axis=1,inplace=True)"
   ]
  },
  {
   "cell_type": "markdown",
   "metadata": {},
   "source": [
    "## Data Exploration"
   ]
  },
  {
   "cell_type": "code",
   "execution_count": 69,
   "metadata": {},
   "outputs": [
    {
     "data": {
      "text/plain": [
       "0    85480\n",
       "1     3101\n",
       "Name: isFraud, dtype: int64"
      ]
     },
     "execution_count": 69,
     "metadata": {},
     "output_type": "execute_result"
    }
   ],
   "source": [
    "df['isFraud'].value_counts()"
   ]
  },
  {
   "cell_type": "markdown",
   "metadata": {},
   "source": [
    "This data set is very imbalanced. Only 3.5% (3101/88581) are labelled as 1 (fraud), and 96.5% (85480/88581) is 0 (not fraud)."
   ]
  },
  {
   "cell_type": "code",
   "execution_count": 70,
   "metadata": {},
   "outputs": [
    {
     "data": {
      "image/png": "[encoded data removed]",
      "text/plain": [
       "<Figure size 432x288 with 1 Axes>"
      ]
     },
     "metadata": {
      "needs_background": "light"
     },
     "output_type": "display_data"
    }
   ],
   "source": [
    "# imbalanced dataset\n",
    "df['isFraud'].hist()\n",
    "plt.show()"
   ]
  },
  {
   "cell_type": "code",
   "execution_count": 71,
   "metadata": {},
   "outputs": [
    {
     "data": {
      "text/html": [
       "<div>\n",
       "<style scoped>\n",
       "    .dataframe tbody tr th:only-of-type {\n",
       "        vertical-align: middle;\n",
       "    }\n",
       "\n",
       "    .dataframe tbody tr th {\n",
       "        vertical-align: top;\n",
       "    }\n",
       "\n",
       "    .dataframe thead th {\n",
       "        text-align: right;\n",
       "    }\n",
       "</style>\n",
       "<table border=\"1\" class=\"dataframe\">\n",
       "  <thead>\n",
       "    <tr style=\"text-align: right;\">\n",
       "      <th></th>\n",
       "      <th>ProductCD</th>\n",
       "      <th>card4</th>\n",
       "      <th>card6</th>\n",
       "      <th>P_emaildomain</th>\n",
       "      <th>id_12</th>\n",
       "      <th>id_15</th>\n",
       "      <th>id_16</th>\n",
       "      <th>id_23</th>\n",
       "      <th>id_27</th>\n",
       "      <th>id_28</th>\n",
       "      <th>id_29</th>\n",
       "      <th>id_30</th>\n",
       "      <th>id_31</th>\n",
       "      <th>id_33</th>\n",
       "      <th>id_34</th>\n",
       "      <th>id_35</th>\n",
       "      <th>id_36</th>\n",
       "      <th>id_37</th>\n",
       "      <th>id_38</th>\n",
       "    </tr>\n",
       "    <tr>\n",
       "      <th>TransactionID</th>\n",
       "      <th></th>\n",
       "      <th></th>\n",
       "      <th></th>\n",
       "      <th></th>\n",
       "      <th></th>\n",
       "      <th></th>\n",
       "      <th></th>\n",
       "      <th></th>\n",
       "      <th></th>\n",
       "      <th></th>\n",
       "      <th></th>\n",
       "      <th></th>\n",
       "      <th></th>\n",
       "      <th></th>\n",
       "      <th></th>\n",
       "      <th></th>\n",
       "      <th></th>\n",
       "      <th></th>\n",
       "      <th></th>\n",
       "    </tr>\n",
       "  </thead>\n",
       "  <tbody>\n",
       "    <tr>\n",
       "      <th>3348902</th>\n",
       "      <td>W</td>\n",
       "      <td>visa</td>\n",
       "      <td>debit</td>\n",
       "      <td>gmail.com</td>\n",
       "      <td>NotFound</td>\n",
       "      <td>Found</td>\n",
       "      <td>Found</td>\n",
       "      <td>IP_PROXY:TRANSPARENT</td>\n",
       "      <td>Found</td>\n",
       "      <td>Found</td>\n",
       "      <td>Found</td>\n",
       "      <td>Windows 10</td>\n",
       "      <td>chrome 63.0</td>\n",
       "      <td>1920x1080</td>\n",
       "      <td>match_status:2</td>\n",
       "      <td>T</td>\n",
       "      <td>F</td>\n",
       "      <td>T</td>\n",
       "      <td>F</td>\n",
       "    </tr>\n",
       "    <tr>\n",
       "      <th>3212893</th>\n",
       "      <td>W</td>\n",
       "      <td>visa</td>\n",
       "      <td>debit</td>\n",
       "      <td>gmail.com</td>\n",
       "      <td>NotFound</td>\n",
       "      <td>Found</td>\n",
       "      <td>Found</td>\n",
       "      <td>IP_PROXY:TRANSPARENT</td>\n",
       "      <td>Found</td>\n",
       "      <td>Found</td>\n",
       "      <td>Found</td>\n",
       "      <td>Windows 10</td>\n",
       "      <td>chrome 63.0</td>\n",
       "      <td>1920x1080</td>\n",
       "      <td>match_status:2</td>\n",
       "      <td>T</td>\n",
       "      <td>F</td>\n",
       "      <td>T</td>\n",
       "      <td>F</td>\n",
       "    </tr>\n",
       "    <tr>\n",
       "      <th>3067388</th>\n",
       "      <td>H</td>\n",
       "      <td>visa</td>\n",
       "      <td>debit</td>\n",
       "      <td>anonymous.com</td>\n",
       "      <td>NotFound</td>\n",
       "      <td>New</td>\n",
       "      <td>NotFound</td>\n",
       "      <td>IP_PROXY:TRANSPARENT</td>\n",
       "      <td>Found</td>\n",
       "      <td>New</td>\n",
       "      <td>NotFound</td>\n",
       "      <td>Windows 7</td>\n",
       "      <td>chrome 63.0</td>\n",
       "      <td>1280x1024</td>\n",
       "      <td>match_status:2</td>\n",
       "      <td>T</td>\n",
       "      <td>F</td>\n",
       "      <td>T</td>\n",
       "      <td>T</td>\n",
       "    </tr>\n",
       "    <tr>\n",
       "      <th>3265894</th>\n",
       "      <td>C</td>\n",
       "      <td>visa</td>\n",
       "      <td>credit</td>\n",
       "      <td>yahoo.com.mx</td>\n",
       "      <td>NotFound</td>\n",
       "      <td>Found</td>\n",
       "      <td>Found</td>\n",
       "      <td>IP_PROXY:TRANSPARENT</td>\n",
       "      <td>Found</td>\n",
       "      <td>Found</td>\n",
       "      <td>Found</td>\n",
       "      <td>Windows 10</td>\n",
       "      <td>chrome 63.0</td>\n",
       "      <td>1920x1080</td>\n",
       "      <td>match_status:2</td>\n",
       "      <td>T</td>\n",
       "      <td>F</td>\n",
       "      <td>T</td>\n",
       "      <td>F</td>\n",
       "    </tr>\n",
       "    <tr>\n",
       "      <th>3275758</th>\n",
       "      <td>R</td>\n",
       "      <td>discover</td>\n",
       "      <td>credit</td>\n",
       "      <td>anonymous.com</td>\n",
       "      <td>NotFound</td>\n",
       "      <td>New</td>\n",
       "      <td>NotFound</td>\n",
       "      <td>IP_PROXY:TRANSPARENT</td>\n",
       "      <td>Found</td>\n",
       "      <td>New</td>\n",
       "      <td>NotFound</td>\n",
       "      <td>iOS</td>\n",
       "      <td>mobile safari generic</td>\n",
       "      <td>2048x1536</td>\n",
       "      <td>match_status:1</td>\n",
       "      <td>T</td>\n",
       "      <td>F</td>\n",
       "      <td>F</td>\n",
       "      <td>T</td>\n",
       "    </tr>\n",
       "    <tr>\n",
       "      <th>...</th>\n",
       "      <td>...</td>\n",
       "      <td>...</td>\n",
       "      <td>...</td>\n",
       "      <td>...</td>\n",
       "      <td>...</td>\n",
       "      <td>...</td>\n",
       "      <td>...</td>\n",
       "      <td>...</td>\n",
       "      <td>...</td>\n",
       "      <td>...</td>\n",
       "      <td>...</td>\n",
       "      <td>...</td>\n",
       "      <td>...</td>\n",
       "      <td>...</td>\n",
       "      <td>...</td>\n",
       "      <td>...</td>\n",
       "      <td>...</td>\n",
       "      <td>...</td>\n",
       "      <td>...</td>\n",
       "    </tr>\n",
       "    <tr>\n",
       "      <th>3111719</th>\n",
       "      <td>W</td>\n",
       "      <td>visa</td>\n",
       "      <td>debit</td>\n",
       "      <td>yahoo.com</td>\n",
       "      <td>NotFound</td>\n",
       "      <td>Found</td>\n",
       "      <td>Found</td>\n",
       "      <td>IP_PROXY:TRANSPARENT</td>\n",
       "      <td>Found</td>\n",
       "      <td>Found</td>\n",
       "      <td>Found</td>\n",
       "      <td>Windows 10</td>\n",
       "      <td>chrome 63.0</td>\n",
       "      <td>1920x1080</td>\n",
       "      <td>match_status:2</td>\n",
       "      <td>T</td>\n",
       "      <td>F</td>\n",
       "      <td>T</td>\n",
       "      <td>F</td>\n",
       "    </tr>\n",
       "    <tr>\n",
       "      <th>3537222</th>\n",
       "      <td>R</td>\n",
       "      <td>visa</td>\n",
       "      <td>credit</td>\n",
       "      <td>comcast.net</td>\n",
       "      <td>NotFound</td>\n",
       "      <td>Found</td>\n",
       "      <td>Found</td>\n",
       "      <td>IP_PROXY:TRANSPARENT</td>\n",
       "      <td>Found</td>\n",
       "      <td>Found</td>\n",
       "      <td>Found</td>\n",
       "      <td>iOS 11.3.0</td>\n",
       "      <td>mobile safari 11.0</td>\n",
       "      <td>2732x2048</td>\n",
       "      <td>match_status:1</td>\n",
       "      <td>T</td>\n",
       "      <td>F</td>\n",
       "      <td>F</td>\n",
       "      <td>F</td>\n",
       "    </tr>\n",
       "    <tr>\n",
       "      <th>3055191</th>\n",
       "      <td>C</td>\n",
       "      <td>visa</td>\n",
       "      <td>debit</td>\n",
       "      <td>hotmail.com</td>\n",
       "      <td>NotFound</td>\n",
       "      <td>Unknown</td>\n",
       "      <td>Found</td>\n",
       "      <td>IP_PROXY:TRANSPARENT</td>\n",
       "      <td>Found</td>\n",
       "      <td>New</td>\n",
       "      <td>NotFound</td>\n",
       "      <td>Windows 10</td>\n",
       "      <td>mobile safari 11.0</td>\n",
       "      <td>1920x1080</td>\n",
       "      <td>match_status:2</td>\n",
       "      <td>F</td>\n",
       "      <td>F</td>\n",
       "      <td>F</td>\n",
       "      <td>T</td>\n",
       "    </tr>\n",
       "    <tr>\n",
       "      <th>3516992</th>\n",
       "      <td>C</td>\n",
       "      <td>mastercard</td>\n",
       "      <td>debit</td>\n",
       "      <td>hotmail.com</td>\n",
       "      <td>NotFound</td>\n",
       "      <td>New</td>\n",
       "      <td>NotFound</td>\n",
       "      <td>IP_PROXY:TRANSPARENT</td>\n",
       "      <td>Found</td>\n",
       "      <td>New</td>\n",
       "      <td>NotFound</td>\n",
       "      <td>Windows 10</td>\n",
       "      <td>chrome 66.0 for android</td>\n",
       "      <td>1920x1080</td>\n",
       "      <td>match_status:2</td>\n",
       "      <td>F</td>\n",
       "      <td>F</td>\n",
       "      <td>T</td>\n",
       "      <td>F</td>\n",
       "    </tr>\n",
       "    <tr>\n",
       "      <th>3022100</th>\n",
       "      <td>W</td>\n",
       "      <td>mastercard</td>\n",
       "      <td>debit</td>\n",
       "      <td>gmail.com</td>\n",
       "      <td>NotFound</td>\n",
       "      <td>Found</td>\n",
       "      <td>Found</td>\n",
       "      <td>IP_PROXY:TRANSPARENT</td>\n",
       "      <td>Found</td>\n",
       "      <td>Found</td>\n",
       "      <td>Found</td>\n",
       "      <td>Windows 10</td>\n",
       "      <td>chrome 63.0</td>\n",
       "      <td>1920x1080</td>\n",
       "      <td>match_status:2</td>\n",
       "      <td>T</td>\n",
       "      <td>F</td>\n",
       "      <td>T</td>\n",
       "      <td>F</td>\n",
       "    </tr>\n",
       "  </tbody>\n",
       "</table>\n",
       "<p>88581 rows × 19 columns</p>\n",
       "</div>"
      ],
      "text/plain": [
       "              ProductCD       card4   card6  P_emaildomain     id_12    id_15  \\\n",
       "TransactionID                                                                   \n",
       "3348902               W        visa   debit      gmail.com  NotFound    Found   \n",
       "3212893               W        visa   debit      gmail.com  NotFound    Found   \n",
       "3067388               H        visa   debit  anonymous.com  NotFound      New   \n",
       "3265894               C        visa  credit   yahoo.com.mx  NotFound    Found   \n",
       "3275758               R    discover  credit  anonymous.com  NotFound      New   \n",
       "...                 ...         ...     ...            ...       ...      ...   \n",
       "3111719               W        visa   debit      yahoo.com  NotFound    Found   \n",
       "3537222               R        visa  credit    comcast.net  NotFound    Found   \n",
       "3055191               C        visa   debit    hotmail.com  NotFound  Unknown   \n",
       "3516992               C  mastercard   debit    hotmail.com  NotFound      New   \n",
       "3022100               W  mastercard   debit      gmail.com  NotFound    Found   \n",
       "\n",
       "                  id_16                 id_23  id_27  id_28     id_29  \\\n",
       "TransactionID                                                           \n",
       "3348902           Found  IP_PROXY:TRANSPARENT  Found  Found     Found   \n",
       "3212893           Found  IP_PROXY:TRANSPARENT  Found  Found     Found   \n",
       "3067388        NotFound  IP_PROXY:TRANSPARENT  Found    New  NotFound   \n",
       "3265894           Found  IP_PROXY:TRANSPARENT  Found  Found     Found   \n",
       "3275758        NotFound  IP_PROXY:TRANSPARENT  Found    New  NotFound   \n",
       "...                 ...                   ...    ...    ...       ...   \n",
       "3111719           Found  IP_PROXY:TRANSPARENT  Found  Found     Found   \n",
       "3537222           Found  IP_PROXY:TRANSPARENT  Found  Found     Found   \n",
       "3055191           Found  IP_PROXY:TRANSPARENT  Found    New  NotFound   \n",
       "3516992        NotFound  IP_PROXY:TRANSPARENT  Found    New  NotFound   \n",
       "3022100           Found  IP_PROXY:TRANSPARENT  Found  Found     Found   \n",
       "\n",
       "                    id_30                    id_31      id_33           id_34  \\\n",
       "TransactionID                                                                   \n",
       "3348902        Windows 10              chrome 63.0  1920x1080  match_status:2   \n",
       "3212893        Windows 10              chrome 63.0  1920x1080  match_status:2   \n",
       "3067388         Windows 7              chrome 63.0  1280x1024  match_status:2   \n",
       "3265894        Windows 10              chrome 63.0  1920x1080  match_status:2   \n",
       "3275758               iOS    mobile safari generic  2048x1536  match_status:1   \n",
       "...                   ...                      ...        ...             ...   \n",
       "3111719        Windows 10              chrome 63.0  1920x1080  match_status:2   \n",
       "3537222        iOS 11.3.0       mobile safari 11.0  2732x2048  match_status:1   \n",
       "3055191        Windows 10       mobile safari 11.0  1920x1080  match_status:2   \n",
       "3516992        Windows 10  chrome 66.0 for android  1920x1080  match_status:2   \n",
       "3022100        Windows 10              chrome 63.0  1920x1080  match_status:2   \n",
       "\n",
       "              id_35 id_36 id_37 id_38  \n",
       "TransactionID                          \n",
       "3348902           T     F     T     F  \n",
       "3212893           T     F     T     F  \n",
       "3067388           T     F     T     T  \n",
       "3265894           T     F     T     F  \n",
       "3275758           T     F     F     T  \n",
       "...             ...   ...   ...   ...  \n",
       "3111719           T     F     T     F  \n",
       "3537222           T     F     F     F  \n",
       "3055191           F     F     F     T  \n",
       "3516992           F     F     T     F  \n",
       "3022100           T     F     T     F  \n",
       "\n",
       "[88581 rows x 19 columns]"
      ]
     },
     "execution_count": 71,
     "metadata": {},
     "output_type": "execute_result"
    }
   ],
   "source": [
    "# explore categorical features\n",
    "df.select_dtypes(include='O')"
   ]
  },
  {
   "cell_type": "code",
   "execution_count": 72,
   "metadata": {},
   "outputs": [
    {
     "data": {
      "image/png": "[encoded data removed]",
      "text/plain": [
       "<Figure size 432x288 with 1 Axes>"
      ]
     },
     "metadata": {
      "needs_background": "light"
     },
     "output_type": "display_data"
    }
   ],
   "source": [
    "# Product code count\n",
    "df['ProductCD'].value_counts().plot(kind='bar')\n",
    "plt.show()"
   ]
  },
  {
   "cell_type": "code",
   "execution_count": 73,
   "metadata": {},
   "outputs": [
    {
     "data": {
      "text/plain": [
       "<AxesSubplot:>"
      ]
     },
     "execution_count": 73,
     "metadata": {},
     "output_type": "execute_result"
    },
    {
     "data": {
      "image/png": "[encoded data removed]",
      "text/plain": [
       "<Figure size 432x288 with 1 Axes>"
      ]
     },
     "metadata": {
      "needs_background": "light"
     },
     "output_type": "display_data"
    }
   ],
   "source": [
    "# credit card count\n",
    "df['card4'].value_counts().plot(kind='bar')"
   ]
  },
  {
   "cell_type": "code",
   "execution_count": 74,
   "metadata": {},
   "outputs": [
    {
     "data": {
      "image/png": "[encoded data removed]",
      "text/plain": [
       "<Figure size 720x360 with 1 Axes>"
      ]
     },
     "metadata": {
      "needs_background": "light"
     },
     "output_type": "display_data"
    }
   ],
   "source": [
    "# email distribution\n",
    "df['P_emaildomain'].value_counts().plot(kind='bar', figsize=(10,5))\n",
    "plt.show()"
   ]
  },
  {
   "cell_type": "code",
   "execution_count": 75,
   "metadata": {},
   "outputs": [
    {
     "data": {
      "text/html": [
       "<div>\n",
       "<style scoped>\n",
       "    .dataframe tbody tr th:only-of-type {\n",
       "        vertical-align: middle;\n",
       "    }\n",
       "\n",
       "    .dataframe tbody tr th {\n",
       "        vertical-align: top;\n",
       "    }\n",
       "\n",
       "    .dataframe thead th {\n",
       "        text-align: right;\n",
       "    }\n",
       "</style>\n",
       "<table border=\"1\" class=\"dataframe\">\n",
       "  <thead>\n",
       "    <tr style=\"text-align: right;\">\n",
       "      <th></th>\n",
       "      <th>isFraud</th>\n",
       "      <th>TransactionDT</th>\n",
       "      <th>TransactionAmt</th>\n",
       "      <th>card1</th>\n",
       "      <th>card2</th>\n",
       "      <th>card3</th>\n",
       "      <th>card5</th>\n",
       "      <th>addr1</th>\n",
       "      <th>addr2</th>\n",
       "      <th>C1</th>\n",
       "      <th>...</th>\n",
       "      <th>id_17</th>\n",
       "      <th>id_18</th>\n",
       "      <th>id_19</th>\n",
       "      <th>id_20</th>\n",
       "      <th>id_21</th>\n",
       "      <th>id_22</th>\n",
       "      <th>id_24</th>\n",
       "      <th>id_25</th>\n",
       "      <th>id_26</th>\n",
       "      <th>id_32</th>\n",
       "    </tr>\n",
       "    <tr>\n",
       "      <th>TransactionID</th>\n",
       "      <th></th>\n",
       "      <th></th>\n",
       "      <th></th>\n",
       "      <th></th>\n",
       "      <th></th>\n",
       "      <th></th>\n",
       "      <th></th>\n",
       "      <th></th>\n",
       "      <th></th>\n",
       "      <th></th>\n",
       "      <th></th>\n",
       "      <th></th>\n",
       "      <th></th>\n",
       "      <th></th>\n",
       "      <th></th>\n",
       "      <th></th>\n",
       "      <th></th>\n",
       "      <th></th>\n",
       "      <th></th>\n",
       "      <th></th>\n",
       "      <th></th>\n",
       "    </tr>\n",
       "  </thead>\n",
       "  <tbody>\n",
       "    <tr>\n",
       "      <th>3348902</th>\n",
       "      <td>0</td>\n",
       "      <td>8975746</td>\n",
       "      <td>77.000</td>\n",
       "      <td>2884</td>\n",
       "      <td>490.0</td>\n",
       "      <td>150.0</td>\n",
       "      <td>226.0</td>\n",
       "      <td>220.000000</td>\n",
       "      <td>87.00000</td>\n",
       "      <td>1.0</td>\n",
       "      <td>...</td>\n",
       "      <td>189.451377</td>\n",
       "      <td>14.237337</td>\n",
       "      <td>353.128174</td>\n",
       "      <td>403.882666</td>\n",
       "      <td>368.26982</td>\n",
       "      <td>16.002708</td>\n",
       "      <td>12.800927</td>\n",
       "      <td>329.608924</td>\n",
       "      <td>149.070308</td>\n",
       "      <td>26.508597</td>\n",
       "    </tr>\n",
       "    <tr>\n",
       "      <th>3212893</th>\n",
       "      <td>1</td>\n",
       "      <td>5340867</td>\n",
       "      <td>77.000</td>\n",
       "      <td>9500</td>\n",
       "      <td>321.0</td>\n",
       "      <td>150.0</td>\n",
       "      <td>226.0</td>\n",
       "      <td>204.000000</td>\n",
       "      <td>87.00000</td>\n",
       "      <td>5.0</td>\n",
       "      <td>...</td>\n",
       "      <td>189.451377</td>\n",
       "      <td>14.237337</td>\n",
       "      <td>353.128174</td>\n",
       "      <td>403.882666</td>\n",
       "      <td>368.26982</td>\n",
       "      <td>16.002708</td>\n",
       "      <td>12.800927</td>\n",
       "      <td>329.608924</td>\n",
       "      <td>149.070308</td>\n",
       "      <td>26.508597</td>\n",
       "    </tr>\n",
       "    <tr>\n",
       "      <th>3067388</th>\n",
       "      <td>0</td>\n",
       "      <td>1728582</td>\n",
       "      <td>50.000</td>\n",
       "      <td>17933</td>\n",
       "      <td>512.0</td>\n",
       "      <td>150.0</td>\n",
       "      <td>195.0</td>\n",
       "      <td>299.000000</td>\n",
       "      <td>87.00000</td>\n",
       "      <td>1.0</td>\n",
       "      <td>...</td>\n",
       "      <td>166.000000</td>\n",
       "      <td>14.237337</td>\n",
       "      <td>542.000000</td>\n",
       "      <td>222.000000</td>\n",
       "      <td>368.26982</td>\n",
       "      <td>16.002708</td>\n",
       "      <td>12.800927</td>\n",
       "      <td>329.608924</td>\n",
       "      <td>149.070308</td>\n",
       "      <td>24.000000</td>\n",
       "    </tr>\n",
       "    <tr>\n",
       "      <th>3265894</th>\n",
       "      <td>0</td>\n",
       "      <td>6799059</td>\n",
       "      <td>14.138</td>\n",
       "      <td>2877</td>\n",
       "      <td>141.0</td>\n",
       "      <td>185.0</td>\n",
       "      <td>137.0</td>\n",
       "      <td>290.733794</td>\n",
       "      <td>86.80063</td>\n",
       "      <td>1.0</td>\n",
       "      <td>...</td>\n",
       "      <td>189.451377</td>\n",
       "      <td>14.237337</td>\n",
       "      <td>353.128174</td>\n",
       "      <td>403.882666</td>\n",
       "      <td>368.26982</td>\n",
       "      <td>16.002708</td>\n",
       "      <td>12.800927</td>\n",
       "      <td>329.608924</td>\n",
       "      <td>149.070308</td>\n",
       "      <td>26.508597</td>\n",
       "    </tr>\n",
       "    <tr>\n",
       "      <th>3275758</th>\n",
       "      <td>0</td>\n",
       "      <td>7094495</td>\n",
       "      <td>150.000</td>\n",
       "      <td>2616</td>\n",
       "      <td>327.0</td>\n",
       "      <td>150.0</td>\n",
       "      <td>102.0</td>\n",
       "      <td>272.000000</td>\n",
       "      <td>87.00000</td>\n",
       "      <td>1.0</td>\n",
       "      <td>...</td>\n",
       "      <td>166.000000</td>\n",
       "      <td>14.237337</td>\n",
       "      <td>410.000000</td>\n",
       "      <td>611.000000</td>\n",
       "      <td>368.26982</td>\n",
       "      <td>16.002708</td>\n",
       "      <td>12.800927</td>\n",
       "      <td>329.608924</td>\n",
       "      <td>149.070308</td>\n",
       "      <td>32.000000</td>\n",
       "    </tr>\n",
       "    <tr>\n",
       "      <th>...</th>\n",
       "      <td>...</td>\n",
       "      <td>...</td>\n",
       "      <td>...</td>\n",
       "      <td>...</td>\n",
       "      <td>...</td>\n",
       "      <td>...</td>\n",
       "      <td>...</td>\n",
       "      <td>...</td>\n",
       "      <td>...</td>\n",
       "      <td>...</td>\n",
       "      <td>...</td>\n",
       "      <td>...</td>\n",
       "      <td>...</td>\n",
       "      <td>...</td>\n",
       "      <td>...</td>\n",
       "      <td>...</td>\n",
       "      <td>...</td>\n",
       "      <td>...</td>\n",
       "      <td>...</td>\n",
       "      <td>...</td>\n",
       "      <td>...</td>\n",
       "    </tr>\n",
       "    <tr>\n",
       "      <th>3111719</th>\n",
       "      <td>0</td>\n",
       "      <td>2476302</td>\n",
       "      <td>828.130</td>\n",
       "      <td>7664</td>\n",
       "      <td>490.0</td>\n",
       "      <td>150.0</td>\n",
       "      <td>226.0</td>\n",
       "      <td>264.000000</td>\n",
       "      <td>87.00000</td>\n",
       "      <td>1.0</td>\n",
       "      <td>...</td>\n",
       "      <td>189.451377</td>\n",
       "      <td>14.237337</td>\n",
       "      <td>353.128174</td>\n",
       "      <td>403.882666</td>\n",
       "      <td>368.26982</td>\n",
       "      <td>16.002708</td>\n",
       "      <td>12.800927</td>\n",
       "      <td>329.608924</td>\n",
       "      <td>149.070308</td>\n",
       "      <td>26.508597</td>\n",
       "    </tr>\n",
       "    <tr>\n",
       "      <th>3537222</th>\n",
       "      <td>0</td>\n",
       "      <td>14522431</td>\n",
       "      <td>50.000</td>\n",
       "      <td>6019</td>\n",
       "      <td>583.0</td>\n",
       "      <td>150.0</td>\n",
       "      <td>226.0</td>\n",
       "      <td>225.000000</td>\n",
       "      <td>87.00000</td>\n",
       "      <td>1.0</td>\n",
       "      <td>...</td>\n",
       "      <td>166.000000</td>\n",
       "      <td>14.237337</td>\n",
       "      <td>215.000000</td>\n",
       "      <td>266.000000</td>\n",
       "      <td>368.26982</td>\n",
       "      <td>16.002708</td>\n",
       "      <td>12.800927</td>\n",
       "      <td>329.608924</td>\n",
       "      <td>149.070308</td>\n",
       "      <td>32.000000</td>\n",
       "    </tr>\n",
       "    <tr>\n",
       "      <th>3055191</th>\n",
       "      <td>0</td>\n",
       "      <td>1542890</td>\n",
       "      <td>25.535</td>\n",
       "      <td>15885</td>\n",
       "      <td>545.0</td>\n",
       "      <td>185.0</td>\n",
       "      <td>138.0</td>\n",
       "      <td>290.733794</td>\n",
       "      <td>86.80063</td>\n",
       "      <td>2.0</td>\n",
       "      <td>...</td>\n",
       "      <td>225.000000</td>\n",
       "      <td>14.237337</td>\n",
       "      <td>266.000000</td>\n",
       "      <td>325.000000</td>\n",
       "      <td>368.26982</td>\n",
       "      <td>16.002708</td>\n",
       "      <td>12.800927</td>\n",
       "      <td>329.608924</td>\n",
       "      <td>149.070308</td>\n",
       "      <td>26.508597</td>\n",
       "    </tr>\n",
       "    <tr>\n",
       "      <th>3516992</th>\n",
       "      <td>0</td>\n",
       "      <td>13961749</td>\n",
       "      <td>18.260</td>\n",
       "      <td>13832</td>\n",
       "      <td>375.0</td>\n",
       "      <td>185.0</td>\n",
       "      <td>224.0</td>\n",
       "      <td>290.733794</td>\n",
       "      <td>86.80063</td>\n",
       "      <td>1.0</td>\n",
       "      <td>...</td>\n",
       "      <td>225.000000</td>\n",
       "      <td>14.237337</td>\n",
       "      <td>484.000000</td>\n",
       "      <td>325.000000</td>\n",
       "      <td>368.26982</td>\n",
       "      <td>16.002708</td>\n",
       "      <td>12.800927</td>\n",
       "      <td>329.608924</td>\n",
       "      <td>149.070308</td>\n",
       "      <td>26.508597</td>\n",
       "    </tr>\n",
       "    <tr>\n",
       "      <th>3022100</th>\n",
       "      <td>0</td>\n",
       "      <td>858840</td>\n",
       "      <td>117.000</td>\n",
       "      <td>7919</td>\n",
       "      <td>194.0</td>\n",
       "      <td>150.0</td>\n",
       "      <td>202.0</td>\n",
       "      <td>299.000000</td>\n",
       "      <td>87.00000</td>\n",
       "      <td>2.0</td>\n",
       "      <td>...</td>\n",
       "      <td>189.451377</td>\n",
       "      <td>14.237337</td>\n",
       "      <td>353.128174</td>\n",
       "      <td>403.882666</td>\n",
       "      <td>368.26982</td>\n",
       "      <td>16.002708</td>\n",
       "      <td>12.800927</td>\n",
       "      <td>329.608924</td>\n",
       "      <td>149.070308</td>\n",
       "      <td>26.508597</td>\n",
       "    </tr>\n",
       "  </tbody>\n",
       "</table>\n",
       "<p>88581 rows × 219 columns</p>\n",
       "</div>"
      ],
      "text/plain": [
       "               isFraud  TransactionDT  TransactionAmt  card1  card2  card3  \\\n",
       "TransactionID                                                                \n",
       "3348902              0        8975746          77.000   2884  490.0  150.0   \n",
       "3212893              1        5340867          77.000   9500  321.0  150.0   \n",
       "3067388              0        1728582          50.000  17933  512.0  150.0   \n",
       "3265894              0        6799059          14.138   2877  141.0  185.0   \n",
       "3275758              0        7094495         150.000   2616  327.0  150.0   \n",
       "...                ...            ...             ...    ...    ...    ...   \n",
       "3111719              0        2476302         828.130   7664  490.0  150.0   \n",
       "3537222              0       14522431          50.000   6019  583.0  150.0   \n",
       "3055191              0        1542890          25.535  15885  545.0  185.0   \n",
       "3516992              0       13961749          18.260  13832  375.0  185.0   \n",
       "3022100              0         858840         117.000   7919  194.0  150.0   \n",
       "\n",
       "               card5       addr1     addr2   C1  ...       id_17      id_18  \\\n",
       "TransactionID                                    ...                          \n",
       "3348902        226.0  220.000000  87.00000  1.0  ...  189.451377  14.237337   \n",
       "3212893        226.0  204.000000  87.00000  5.0  ...  189.451377  14.237337   \n",
       "3067388        195.0  299.000000  87.00000  1.0  ...  166.000000  14.237337   \n",
       "3265894        137.0  290.733794  86.80063  1.0  ...  189.451377  14.237337   \n",
       "3275758        102.0  272.000000  87.00000  1.0  ...  166.000000  14.237337   \n",
       "...              ...         ...       ...  ...  ...         ...        ...   \n",
       "3111719        226.0  264.000000  87.00000  1.0  ...  189.451377  14.237337   \n",
       "3537222        226.0  225.000000  87.00000  1.0  ...  166.000000  14.237337   \n",
       "3055191        138.0  290.733794  86.80063  2.0  ...  225.000000  14.237337   \n",
       "3516992        224.0  290.733794  86.80063  1.0  ...  225.000000  14.237337   \n",
       "3022100        202.0  299.000000  87.00000  2.0  ...  189.451377  14.237337   \n",
       "\n",
       "                    id_19       id_20      id_21      id_22      id_24  \\\n",
       "TransactionID                                                            \n",
       "3348902        353.128174  403.882666  368.26982  16.002708  12.800927   \n",
       "3212893        353.128174  403.882666  368.26982  16.002708  12.800927   \n",
       "3067388        542.000000  222.000000  368.26982  16.002708  12.800927   \n",
       "3265894        353.128174  403.882666  368.26982  16.002708  12.800927   \n",
       "3275758        410.000000  611.000000  368.26982  16.002708  12.800927   \n",
       "...                   ...         ...        ...        ...        ...   \n",
       "3111719        353.128174  403.882666  368.26982  16.002708  12.800927   \n",
       "3537222        215.000000  266.000000  368.26982  16.002708  12.800927   \n",
       "3055191        266.000000  325.000000  368.26982  16.002708  12.800927   \n",
       "3516992        484.000000  325.000000  368.26982  16.002708  12.800927   \n",
       "3022100        353.128174  403.882666  368.26982  16.002708  12.800927   \n",
       "\n",
       "                    id_25       id_26      id_32  \n",
       "TransactionID                                     \n",
       "3348902        329.608924  149.070308  26.508597  \n",
       "3212893        329.608924  149.070308  26.508597  \n",
       "3067388        329.608924  149.070308  24.000000  \n",
       "3265894        329.608924  149.070308  26.508597  \n",
       "3275758        329.608924  149.070308  32.000000  \n",
       "...                   ...         ...        ...  \n",
       "3111719        329.608924  149.070308  26.508597  \n",
       "3537222        329.608924  149.070308  32.000000  \n",
       "3055191        329.608924  149.070308  26.508597  \n",
       "3516992        329.608924  149.070308  26.508597  \n",
       "3022100        329.608924  149.070308  26.508597  \n",
       "\n",
       "[88581 rows x 219 columns]"
      ]
     },
     "execution_count": 75,
     "metadata": {},
     "output_type": "execute_result"
    }
   ],
   "source": [
    "# explore numeric features\n",
    "df.select_dtypes(exclude='O')"
   ]
  },
  {
   "cell_type": "code",
   "execution_count": 76,
   "metadata": {},
   "outputs": [
    {
     "data": {
      "text/plain": [
       "<AxesSubplot:>"
      ]
     },
     "execution_count": 76,
     "metadata": {},
     "output_type": "execute_result"
    },
    {
     "data": {
      "image/png": "[encoded data removed]",
      "text/plain": [
       "<Figure size 432x288 with 1 Axes>"
      ]
     },
     "metadata": {
      "needs_background": "light"
     },
     "output_type": "display_data"
    }
   ],
   "source": [
    "df['card1'].hist()"
   ]
  },
  {
   "cell_type": "code",
   "execution_count": 77,
   "metadata": {},
   "outputs": [
    {
     "data": {
      "text/plain": [
       "<AxesSubplot:>"
      ]
     },
     "execution_count": 77,
     "metadata": {},
     "output_type": "execute_result"
    },
    {
     "data": {
      "image/png": "[encoded data removed]",
      "text/plain": [
       "<Figure size 432x288 with 1 Axes>"
      ]
     },
     "metadata": {
      "needs_background": "light"
     },
     "output_type": "display_data"
    }
   ],
   "source": [
    "df['card2'].hist()"
   ]
  },
  {
   "cell_type": "code",
   "execution_count": 78,
   "metadata": {},
   "outputs": [
    {
     "data": {
      "text/plain": [
       "<AxesSubplot:>"
      ]
     },
     "execution_count": 78,
     "metadata": {},
     "output_type": "execute_result"
    },
    {
     "data": {
      "image/png": "[encoded data removed]",
      "text/plain": [
       "<Figure size 432x288 with 1 Axes>"
      ]
     },
     "metadata": {
      "needs_background": "light"
     },
     "output_type": "display_data"
    }
   ],
   "source": [
    "df['card5'].hist()"
   ]
  },
  {
   "cell_type": "code",
   "execution_count": 79,
   "metadata": {},
   "outputs": [
    {
     "data": {
      "text/plain": [
       "<AxesSubplot:>"
      ]
     },
     "execution_count": 79,
     "metadata": {},
     "output_type": "execute_result"
    },
    {
     "data": {
      "image/png": "[encoded data removed]",
      "text/plain": [
       "<Figure size 432x288 with 1 Axes>"
      ]
     },
     "metadata": {
      "needs_background": "light"
     },
     "output_type": "display_data"
    }
   ],
   "source": [
    "df['addr1'].hist()"
   ]
  },
  {
   "cell_type": "code",
   "execution_count": 80,
   "metadata": {},
   "outputs": [
    {
     "data": {
      "text/plain": [
       "<AxesSubplot:>"
      ]
     },
     "execution_count": 80,
     "metadata": {},
     "output_type": "execute_result"
    },
    {
     "data": {
      "image/png": "[encoded data removed]",
      "text/plain": [
       "<Figure size 432x288 with 1 Axes>"
      ]
     },
     "metadata": {
      "needs_background": "light"
     },
     "output_type": "display_data"
    }
   ],
   "source": [
    "df['addr2'].hist()"
   ]
  },
  {
   "cell_type": "code",
   "execution_count": 81,
   "metadata": {},
   "outputs": [
    {
     "data": {
      "text/plain": [
       "<AxesSubplot:>"
      ]
     },
     "execution_count": 81,
     "metadata": {},
     "output_type": "execute_result"
    },
    {
     "data": {
      "image/png": "[encoded data removed]",
      "text/plain": [
       "<Figure size 432x288 with 1 Axes>"
      ]
     },
     "metadata": {
      "needs_background": "light"
     },
     "output_type": "display_data"
    }
   ],
   "source": [
    "df['TransactionDT'].hist()"
   ]
  },
  {
   "cell_type": "code",
   "execution_count": 82,
   "metadata": {},
   "outputs": [
    {
     "name": "stdout",
     "output_type": "stream",
     "text": [
      "mean 134.75973225631932\n",
      "max 5420.0\n",
      "min 0.424\n",
      "mode 0    59.0\n",
      "dtype: float64\n",
      "median 68.95\n"
     ]
    }
   ],
   "source": [
    "# TransactionAmt have some outliers\n",
    "print('mean',df['TransactionAmt'].mean())\n",
    "print('max',df['TransactionAmt'].max())\n",
    "print('min',df['TransactionAmt'].min())\n",
    "print('mode',df['TransactionAmt'].mode())\n",
    "print('median',df['TransactionAmt'].median())"
   ]
  },
  {
   "cell_type": "code",
   "execution_count": 83,
   "metadata": {},
   "outputs": [
    {
     "data": {
      "text/html": [
       "<div>\n",
       "<style scoped>\n",
       "    .dataframe tbody tr th:only-of-type {\n",
       "        vertical-align: middle;\n",
       "    }\n",
       "\n",
       "    .dataframe tbody tr th {\n",
       "        vertical-align: top;\n",
       "    }\n",
       "\n",
       "    .dataframe thead th {\n",
       "        text-align: right;\n",
       "    }\n",
       "</style>\n",
       "<table border=\"1\" class=\"dataframe\">\n",
       "  <thead>\n",
       "    <tr style=\"text-align: right;\">\n",
       "      <th></th>\n",
       "      <th>isFraud</th>\n",
       "      <th>TransactionDT</th>\n",
       "      <th>TransactionAmt</th>\n",
       "      <th>card1</th>\n",
       "      <th>card2</th>\n",
       "      <th>card3</th>\n",
       "      <th>card5</th>\n",
       "      <th>addr1</th>\n",
       "      <th>addr2</th>\n",
       "      <th>C1</th>\n",
       "      <th>...</th>\n",
       "      <th>id_17</th>\n",
       "      <th>id_18</th>\n",
       "      <th>id_19</th>\n",
       "      <th>id_20</th>\n",
       "      <th>id_21</th>\n",
       "      <th>id_22</th>\n",
       "      <th>id_24</th>\n",
       "      <th>id_25</th>\n",
       "      <th>id_26</th>\n",
       "      <th>id_32</th>\n",
       "    </tr>\n",
       "  </thead>\n",
       "  <tbody>\n",
       "    <tr>\n",
       "      <th>count</th>\n",
       "      <td>88581.000000</td>\n",
       "      <td>8.858100e+04</td>\n",
       "      <td>88581.000000</td>\n",
       "      <td>88581.000000</td>\n",
       "      <td>88581.000000</td>\n",
       "      <td>88581.000000</td>\n",
       "      <td>88581.000000</td>\n",
       "      <td>88581.000000</td>\n",
       "      <td>88581.000000</td>\n",
       "      <td>88581.000000</td>\n",
       "      <td>...</td>\n",
       "      <td>88581.000000</td>\n",
       "      <td>88581.000000</td>\n",
       "      <td>88581.000000</td>\n",
       "      <td>88581.000000</td>\n",
       "      <td>88581.000000</td>\n",
       "      <td>88581.000000</td>\n",
       "      <td>88581.000000</td>\n",
       "      <td>88581.000000</td>\n",
       "      <td>88581.000000</td>\n",
       "      <td>88581.000000</td>\n",
       "    </tr>\n",
       "    <tr>\n",
       "      <th>mean</th>\n",
       "      <td>0.035008</td>\n",
       "      <td>7.380637e+06</td>\n",
       "      <td>134.759732</td>\n",
       "      <td>9882.719342</td>\n",
       "      <td>362.155059</td>\n",
       "      <td>153.189718</td>\n",
       "      <td>199.078115</td>\n",
       "      <td>291.331450</td>\n",
       "      <td>86.807918</td>\n",
       "      <td>13.968289</td>\n",
       "      <td>...</td>\n",
       "      <td>189.433483</td>\n",
       "      <td>14.238580</td>\n",
       "      <td>353.301920</td>\n",
       "      <td>403.808370</td>\n",
       "      <td>368.277514</td>\n",
       "      <td>16.004412</td>\n",
       "      <td>12.800958</td>\n",
       "      <td>329.621300</td>\n",
       "      <td>149.086081</td>\n",
       "      <td>26.510164</td>\n",
       "    </tr>\n",
       "    <tr>\n",
       "      <th>std</th>\n",
       "      <td>0.183800</td>\n",
       "      <td>4.621765e+06</td>\n",
       "      <td>230.858219</td>\n",
       "      <td>4898.982597</td>\n",
       "      <td>156.545103</td>\n",
       "      <td>11.247716</td>\n",
       "      <td>41.197459</td>\n",
       "      <td>96.243929</td>\n",
       "      <td>2.457115</td>\n",
       "      <td>131.301665</td>\n",
       "      <td>...</td>\n",
       "      <td>14.751700</td>\n",
       "      <td>0.429326</td>\n",
       "      <td>68.577605</td>\n",
       "      <td>73.723476</td>\n",
       "      <td>18.279920</td>\n",
       "      <td>0.674018</td>\n",
       "      <td>0.207814</td>\n",
       "      <td>9.207322</td>\n",
       "      <td>2.969052</td>\n",
       "      <td>1.349712</td>\n",
       "    </tr>\n",
       "    <tr>\n",
       "      <th>min</th>\n",
       "      <td>0.000000</td>\n",
       "      <td>8.649900e+04</td>\n",
       "      <td>0.424000</td>\n",
       "      <td>1000.000000</td>\n",
       "      <td>100.000000</td>\n",
       "      <td>100.000000</td>\n",
       "      <td>100.000000</td>\n",
       "      <td>100.000000</td>\n",
       "      <td>10.000000</td>\n",
       "      <td>0.000000</td>\n",
       "      <td>...</td>\n",
       "      <td>100.000000</td>\n",
       "      <td>11.000000</td>\n",
       "      <td>100.000000</td>\n",
       "      <td>100.000000</td>\n",
       "      <td>101.000000</td>\n",
       "      <td>14.000000</td>\n",
       "      <td>11.000000</td>\n",
       "      <td>100.000000</td>\n",
       "      <td>100.000000</td>\n",
       "      <td>16.000000</td>\n",
       "    </tr>\n",
       "    <tr>\n",
       "      <th>25%</th>\n",
       "      <td>0.000000</td>\n",
       "      <td>3.024325e+06</td>\n",
       "      <td>43.970000</td>\n",
       "      <td>6019.000000</td>\n",
       "      <td>215.000000</td>\n",
       "      <td>150.000000</td>\n",
       "      <td>166.000000</td>\n",
       "      <td>205.000000</td>\n",
       "      <td>87.000000</td>\n",
       "      <td>1.000000</td>\n",
       "      <td>...</td>\n",
       "      <td>189.451377</td>\n",
       "      <td>14.237337</td>\n",
       "      <td>353.128174</td>\n",
       "      <td>403.882666</td>\n",
       "      <td>368.269820</td>\n",
       "      <td>16.002708</td>\n",
       "      <td>12.800927</td>\n",
       "      <td>329.608924</td>\n",
       "      <td>149.070308</td>\n",
       "      <td>26.508597</td>\n",
       "    </tr>\n",
       "    <tr>\n",
       "      <th>50%</th>\n",
       "      <td>0.000000</td>\n",
       "      <td>7.324879e+06</td>\n",
       "      <td>68.950000</td>\n",
       "      <td>9633.000000</td>\n",
       "      <td>361.000000</td>\n",
       "      <td>150.000000</td>\n",
       "      <td>226.000000</td>\n",
       "      <td>290.733794</td>\n",
       "      <td>87.000000</td>\n",
       "      <td>1.000000</td>\n",
       "      <td>...</td>\n",
       "      <td>189.451377</td>\n",
       "      <td>14.237337</td>\n",
       "      <td>353.128174</td>\n",
       "      <td>403.882666</td>\n",
       "      <td>368.269820</td>\n",
       "      <td>16.002708</td>\n",
       "      <td>12.800927</td>\n",
       "      <td>329.608924</td>\n",
       "      <td>149.070308</td>\n",
       "      <td>26.508597</td>\n",
       "    </tr>\n",
       "    <tr>\n",
       "      <th>75%</th>\n",
       "      <td>0.000000</td>\n",
       "      <td>1.124275e+07</td>\n",
       "      <td>125.000000</td>\n",
       "      <td>14165.000000</td>\n",
       "      <td>512.000000</td>\n",
       "      <td>150.000000</td>\n",
       "      <td>226.000000</td>\n",
       "      <td>327.000000</td>\n",
       "      <td>87.000000</td>\n",
       "      <td>3.000000</td>\n",
       "      <td>...</td>\n",
       "      <td>189.451377</td>\n",
       "      <td>14.237337</td>\n",
       "      <td>353.128174</td>\n",
       "      <td>403.882666</td>\n",
       "      <td>368.269820</td>\n",
       "      <td>16.002708</td>\n",
       "      <td>12.800927</td>\n",
       "      <td>329.608924</td>\n",
       "      <td>149.070308</td>\n",
       "      <td>26.508597</td>\n",
       "    </tr>\n",
       "    <tr>\n",
       "      <th>max</th>\n",
       "      <td>1.000000</td>\n",
       "      <td>1.581094e+07</td>\n",
       "      <td>5420.000000</td>\n",
       "      <td>18395.000000</td>\n",
       "      <td>600.000000</td>\n",
       "      <td>229.000000</td>\n",
       "      <td>237.000000</td>\n",
       "      <td>540.000000</td>\n",
       "      <td>102.000000</td>\n",
       "      <td>4681.000000</td>\n",
       "      <td>...</td>\n",
       "      <td>226.000000</td>\n",
       "      <td>29.000000</td>\n",
       "      <td>670.000000</td>\n",
       "      <td>660.000000</td>\n",
       "      <td>854.000000</td>\n",
       "      <td>41.000000</td>\n",
       "      <td>26.000000</td>\n",
       "      <td>548.000000</td>\n",
       "      <td>216.000000</td>\n",
       "      <td>32.000000</td>\n",
       "    </tr>\n",
       "  </tbody>\n",
       "</table>\n",
       "<p>8 rows × 219 columns</p>\n",
       "</div>"
      ],
      "text/plain": [
       "            isFraud  TransactionDT  TransactionAmt         card1  \\\n",
       "count  88581.000000   8.858100e+04    88581.000000  88581.000000   \n",
       "mean       0.035008   7.380637e+06      134.759732   9882.719342   \n",
       "std        0.183800   4.621765e+06      230.858219   4898.982597   \n",
       "min        0.000000   8.649900e+04        0.424000   1000.000000   \n",
       "25%        0.000000   3.024325e+06       43.970000   6019.000000   \n",
       "50%        0.000000   7.324879e+06       68.950000   9633.000000   \n",
       "75%        0.000000   1.124275e+07      125.000000  14165.000000   \n",
       "max        1.000000   1.581094e+07     5420.000000  18395.000000   \n",
       "\n",
       "              card2         card3         card5         addr1         addr2  \\\n",
       "count  88581.000000  88581.000000  88581.000000  88581.000000  88581.000000   \n",
       "mean     362.155059    153.189718    199.078115    291.331450     86.807918   \n",
       "std      156.545103     11.247716     41.197459     96.243929      2.457115   \n",
       "min      100.000000    100.000000    100.000000    100.000000     10.000000   \n",
       "25%      215.000000    150.000000    166.000000    205.000000     87.000000   \n",
       "50%      361.000000    150.000000    226.000000    290.733794     87.000000   \n",
       "75%      512.000000    150.000000    226.000000    327.000000     87.000000   \n",
       "max      600.000000    229.000000    237.000000    540.000000    102.000000   \n",
       "\n",
       "                 C1  ...         id_17         id_18         id_19  \\\n",
       "count  88581.000000  ...  88581.000000  88581.000000  88581.000000   \n",
       "mean      13.968289  ...    189.433483     14.238580    353.301920   \n",
       "std      131.301665  ...     14.751700      0.429326     68.577605   \n",
       "min        0.000000  ...    100.000000     11.000000    100.000000   \n",
       "25%        1.000000  ...    189.451377     14.237337    353.128174   \n",
       "50%        1.000000  ...    189.451377     14.237337    353.128174   \n",
       "75%        3.000000  ...    189.451377     14.237337    353.128174   \n",
       "max     4681.000000  ...    226.000000     29.000000    670.000000   \n",
       "\n",
       "              id_20         id_21         id_22         id_24         id_25  \\\n",
       "count  88581.000000  88581.000000  88581.000000  88581.000000  88581.000000   \n",
       "mean     403.808370    368.277514     16.004412     12.800958    329.621300   \n",
       "std       73.723476     18.279920      0.674018      0.207814      9.207322   \n",
       "min      100.000000    101.000000     14.000000     11.000000    100.000000   \n",
       "25%      403.882666    368.269820     16.002708     12.800927    329.608924   \n",
       "50%      403.882666    368.269820     16.002708     12.800927    329.608924   \n",
       "75%      403.882666    368.269820     16.002708     12.800927    329.608924   \n",
       "max      660.000000    854.000000     41.000000     26.000000    548.000000   \n",
       "\n",
       "              id_26         id_32  \n",
       "count  88581.000000  88581.000000  \n",
       "mean     149.086081     26.510164  \n",
       "std        2.969052      1.349712  \n",
       "min      100.000000     16.000000  \n",
       "25%      149.070308     26.508597  \n",
       "50%      149.070308     26.508597  \n",
       "75%      149.070308     26.508597  \n",
       "max      216.000000     32.000000  \n",
       "\n",
       "[8 rows x 219 columns]"
      ]
     },
     "execution_count": 83,
     "metadata": {},
     "output_type": "execute_result"
    }
   ],
   "source": [
    "df.describe()"
   ]
  },
  {
   "cell_type": "markdown",
   "metadata": {},
   "source": [
    "## Exploring outliers"
   ]
  },
  {
   "cell_type": "code",
   "execution_count": 84,
   "metadata": {},
   "outputs": [
    {
     "data": {
      "text/plain": [
       "(2198, 238)"
      ]
     },
     "execution_count": 84,
     "metadata": {},
     "output_type": "execute_result"
    }
   ],
   "source": [
    "df[(df['TransactionAmt'] < df['TransactionAmt'].quantile(0.025))].shape"
   ]
  },
  {
   "cell_type": "code",
   "execution_count": 85,
   "metadata": {},
   "outputs": [
    {
     "data": {
      "text/plain": [
       "(2215, 238)"
      ]
     },
     "execution_count": 85,
     "metadata": {},
     "output_type": "execute_result"
    }
   ],
   "source": [
    "df[(df['TransactionAmt'] > df['TransactionAmt'].quantile(0.975))].shape"
   ]
  },
  {
   "cell_type": "code",
   "execution_count": 86,
   "metadata": {},
   "outputs": [
    {
     "data": {
      "text/plain": [
       "(2215, 238)"
      ]
     },
     "execution_count": 86,
     "metadata": {},
     "output_type": "execute_result"
    }
   ],
   "source": [
    "df[(df['TransactionDT'] < df['TransactionDT'].quantile(0.025))].shape"
   ]
  },
  {
   "cell_type": "code",
   "execution_count": 87,
   "metadata": {},
   "outputs": [
    {
     "data": {
      "text/plain": [
       "(2215, 238)"
      ]
     },
     "execution_count": 87,
     "metadata": {},
     "output_type": "execute_result"
    }
   ],
   "source": [
    "df[(df['TransactionDT'] > df['TransactionDT'].quantile(0.975))].shape"
   ]
  },
  {
   "cell_type": "code",
   "execution_count": 88,
   "metadata": {},
   "outputs": [],
   "source": [
    "# dropping outliers\n",
    "df.drop(df[(df['TransactionAmt'] > df['TransactionAmt'].quantile(0.975)) \n",
    "           | (df['TransactionAmt'] < df['TransactionAmt'].quantile(0.025))].index,inplace=True)\n",
    "df.drop(df[(df['TransactionDT'] > df['TransactionDT'].quantile(0.975)) \n",
    "           | (df['TransactionDT'] < df['TransactionDT'].quantile(0.025))].index, inplace=True)"
   ]
  },
  {
   "cell_type": "code",
   "execution_count": 89,
   "metadata": {},
   "outputs": [
    {
     "data": {
      "text/plain": [
       "(79958, 238)"
      ]
     },
     "execution_count": 89,
     "metadata": {},
     "output_type": "execute_result"
    }
   ],
   "source": [
    "df.shape"
   ]
  },
  {
   "cell_type": "code",
   "execution_count": 90,
   "metadata": {},
   "outputs": [],
   "source": [
    "# Exploring test dataset\n",
    "test = pd.read_csv('datasets_cleaned/final_test.csv',index_col='TransactionID').sample(frac =.21)\n",
    "test.drop(['Unnamed: 0','Unnamed: 0.1'],axis=1,inplace=True)"
   ]
  },
  {
   "cell_type": "code",
   "execution_count": 91,
   "metadata": {},
   "outputs": [
    {
     "data": {
      "text/html": [
       "<div>\n",
       "<style scoped>\n",
       "    .dataframe tbody tr th:only-of-type {\n",
       "        vertical-align: middle;\n",
       "    }\n",
       "\n",
       "    .dataframe tbody tr th {\n",
       "        vertical-align: top;\n",
       "    }\n",
       "\n",
       "    .dataframe thead th {\n",
       "        text-align: right;\n",
       "    }\n",
       "</style>\n",
       "<table border=\"1\" class=\"dataframe\">\n",
       "  <thead>\n",
       "    <tr style=\"text-align: right;\">\n",
       "      <th></th>\n",
       "      <th>TransactionDT</th>\n",
       "      <th>TransactionAmt</th>\n",
       "      <th>card1</th>\n",
       "      <th>card2</th>\n",
       "      <th>card3</th>\n",
       "      <th>card5</th>\n",
       "      <th>addr1</th>\n",
       "      <th>addr2</th>\n",
       "      <th>C1</th>\n",
       "      <th>C2</th>\n",
       "      <th>...</th>\n",
       "      <th>V312</th>\n",
       "      <th>V313</th>\n",
       "      <th>V314</th>\n",
       "      <th>V315</th>\n",
       "      <th>V316</th>\n",
       "      <th>V317</th>\n",
       "      <th>V318</th>\n",
       "      <th>V319</th>\n",
       "      <th>V320</th>\n",
       "      <th>V321</th>\n",
       "    </tr>\n",
       "  </thead>\n",
       "  <tbody>\n",
       "    <tr>\n",
       "      <th>count</th>\n",
       "      <td>7.600400e+04</td>\n",
       "      <td>76004.000000</td>\n",
       "      <td>76004.000000</td>\n",
       "      <td>76004.000000</td>\n",
       "      <td>76004.000000</td>\n",
       "      <td>76004.000000</td>\n",
       "      <td>76004.000000</td>\n",
       "      <td>76004.000000</td>\n",
       "      <td>76004.000000</td>\n",
       "      <td>76004.000000</td>\n",
       "      <td>...</td>\n",
       "      <td>76004.000000</td>\n",
       "      <td>76004.000000</td>\n",
       "      <td>76004.000000</td>\n",
       "      <td>76004.000000</td>\n",
       "      <td>76004.000000</td>\n",
       "      <td>76004.000000</td>\n",
       "      <td>76004.000000</td>\n",
       "      <td>76004.000000</td>\n",
       "      <td>76004.000000</td>\n",
       "      <td>76004.000000</td>\n",
       "    </tr>\n",
       "    <tr>\n",
       "      <th>mean</th>\n",
       "      <td>2.691002e+07</td>\n",
       "      <td>134.656738</td>\n",
       "      <td>9939.667728</td>\n",
       "      <td>363.792100</td>\n",
       "      <td>153.485717</td>\n",
       "      <td>200.231162</td>\n",
       "      <td>291.478094</td>\n",
       "      <td>86.739856</td>\n",
       "      <td>10.106614</td>\n",
       "      <td>10.738892</td>\n",
       "      <td>...</td>\n",
       "      <td>42.282243</td>\n",
       "      <td>20.846230</td>\n",
       "      <td>43.042042</td>\n",
       "      <td>26.339106</td>\n",
       "      <td>31.720222</td>\n",
       "      <td>70.074540</td>\n",
       "      <td>46.343413</td>\n",
       "      <td>24.714282</td>\n",
       "      <td>49.201038</td>\n",
       "      <td>38.358270</td>\n",
       "    </tr>\n",
       "    <tr>\n",
       "      <th>std</th>\n",
       "      <td>4.753684e+06</td>\n",
       "      <td>240.063560</td>\n",
       "      <td>4887.995285</td>\n",
       "      <td>157.572245</td>\n",
       "      <td>12.256660</td>\n",
       "      <td>40.316352</td>\n",
       "      <td>95.186855</td>\n",
       "      <td>2.652307</td>\n",
       "      <td>78.470224</td>\n",
       "      <td>88.059386</td>\n",
       "      <td>...</td>\n",
       "      <td>369.018795</td>\n",
       "      <td>90.064618</td>\n",
       "      <td>194.897973</td>\n",
       "      <td>111.314391</td>\n",
       "      <td>1133.936276</td>\n",
       "      <td>1255.558913</td>\n",
       "      <td>1178.480882</td>\n",
       "      <td>546.494958</td>\n",
       "      <td>2296.916643</td>\n",
       "      <td>2264.495987</td>\n",
       "    </tr>\n",
       "    <tr>\n",
       "      <th>min</th>\n",
       "      <td>1.840335e+07</td>\n",
       "      <td>0.018000</td>\n",
       "      <td>1004.000000</td>\n",
       "      <td>100.000000</td>\n",
       "      <td>100.000000</td>\n",
       "      <td>100.000000</td>\n",
       "      <td>100.000000</td>\n",
       "      <td>16.000000</td>\n",
       "      <td>0.000000</td>\n",
       "      <td>0.000000</td>\n",
       "      <td>...</td>\n",
       "      <td>0.000000</td>\n",
       "      <td>0.000000</td>\n",
       "      <td>0.000000</td>\n",
       "      <td>0.000000</td>\n",
       "      <td>0.000000</td>\n",
       "      <td>0.000000</td>\n",
       "      <td>0.000000</td>\n",
       "      <td>0.000000</td>\n",
       "      <td>0.000000</td>\n",
       "      <td>0.000000</td>\n",
       "    </tr>\n",
       "    <tr>\n",
       "      <th>25%</th>\n",
       "      <td>2.273466e+07</td>\n",
       "      <td>40.000000</td>\n",
       "      <td>6019.000000</td>\n",
       "      <td>215.000000</td>\n",
       "      <td>150.000000</td>\n",
       "      <td>166.000000</td>\n",
       "      <td>205.000000</td>\n",
       "      <td>87.000000</td>\n",
       "      <td>1.000000</td>\n",
       "      <td>1.000000</td>\n",
       "      <td>...</td>\n",
       "      <td>0.000000</td>\n",
       "      <td>0.000000</td>\n",
       "      <td>0.000000</td>\n",
       "      <td>0.000000</td>\n",
       "      <td>0.000000</td>\n",
       "      <td>0.000000</td>\n",
       "      <td>0.000000</td>\n",
       "      <td>0.000000</td>\n",
       "      <td>0.000000</td>\n",
       "      <td>0.000000</td>\n",
       "    </tr>\n",
       "    <tr>\n",
       "      <th>50%</th>\n",
       "      <td>2.720387e+07</td>\n",
       "      <td>67.950000</td>\n",
       "      <td>9754.000000</td>\n",
       "      <td>363.735379</td>\n",
       "      <td>150.000000</td>\n",
       "      <td>226.000000</td>\n",
       "      <td>291.846514</td>\n",
       "      <td>87.000000</td>\n",
       "      <td>1.000000</td>\n",
       "      <td>1.000000</td>\n",
       "      <td>...</td>\n",
       "      <td>0.000000</td>\n",
       "      <td>0.000000</td>\n",
       "      <td>0.000000</td>\n",
       "      <td>0.000000</td>\n",
       "      <td>0.000000</td>\n",
       "      <td>0.000000</td>\n",
       "      <td>0.000000</td>\n",
       "      <td>0.000000</td>\n",
       "      <td>0.000000</td>\n",
       "      <td>0.000000</td>\n",
       "    </tr>\n",
       "    <tr>\n",
       "      <th>75%</th>\n",
       "      <td>3.129389e+07</td>\n",
       "      <td>125.000000</td>\n",
       "      <td>14276.000000</td>\n",
       "      <td>512.000000</td>\n",
       "      <td>150.000000</td>\n",
       "      <td>226.000000</td>\n",
       "      <td>327.000000</td>\n",
       "      <td>87.000000</td>\n",
       "      <td>3.000000</td>\n",
       "      <td>3.000000</td>\n",
       "      <td>...</td>\n",
       "      <td>0.000000</td>\n",
       "      <td>0.000000</td>\n",
       "      <td>0.000000</td>\n",
       "      <td>0.000000</td>\n",
       "      <td>0.000000</td>\n",
       "      <td>0.000000</td>\n",
       "      <td>0.000000</td>\n",
       "      <td>0.000000</td>\n",
       "      <td>0.000000</td>\n",
       "      <td>0.000000</td>\n",
       "    </tr>\n",
       "    <tr>\n",
       "      <th>max</th>\n",
       "      <td>3.421434e+07</td>\n",
       "      <td>6197.360000</td>\n",
       "      <td>18395.000000</td>\n",
       "      <td>600.000000</td>\n",
       "      <td>231.000000</td>\n",
       "      <td>237.000000</td>\n",
       "      <td>540.000000</td>\n",
       "      <td>102.000000</td>\n",
       "      <td>2941.000000</td>\n",
       "      <td>3259.000000</td>\n",
       "      <td>...</td>\n",
       "      <td>50000.000000</td>\n",
       "      <td>4111.470215</td>\n",
       "      <td>7015.899902</td>\n",
       "      <td>4111.470215</td>\n",
       "      <td>273229.000000</td>\n",
       "      <td>273229.000000</td>\n",
       "      <td>273229.000000</td>\n",
       "      <td>84500.000000</td>\n",
       "      <td>605000.000000</td>\n",
       "      <td>605000.000000</td>\n",
       "    </tr>\n",
       "  </tbody>\n",
       "</table>\n",
       "<p>8 rows × 195 columns</p>\n",
       "</div>"
      ],
      "text/plain": [
       "       TransactionDT  TransactionAmt         card1         card2  \\\n",
       "count   7.600400e+04    76004.000000  76004.000000  76004.000000   \n",
       "mean    2.691002e+07      134.656738   9939.667728    363.792100   \n",
       "std     4.753684e+06      240.063560   4887.995285    157.572245   \n",
       "min     1.840335e+07        0.018000   1004.000000    100.000000   \n",
       "25%     2.273466e+07       40.000000   6019.000000    215.000000   \n",
       "50%     2.720387e+07       67.950000   9754.000000    363.735379   \n",
       "75%     3.129389e+07      125.000000  14276.000000    512.000000   \n",
       "max     3.421434e+07     6197.360000  18395.000000    600.000000   \n",
       "\n",
       "              card3         card5         addr1         addr2            C1  \\\n",
       "count  76004.000000  76004.000000  76004.000000  76004.000000  76004.000000   \n",
       "mean     153.485717    200.231162    291.478094     86.739856     10.106614   \n",
       "std       12.256660     40.316352     95.186855      2.652307     78.470224   \n",
       "min      100.000000    100.000000    100.000000     16.000000      0.000000   \n",
       "25%      150.000000    166.000000    205.000000     87.000000      1.000000   \n",
       "50%      150.000000    226.000000    291.846514     87.000000      1.000000   \n",
       "75%      150.000000    226.000000    327.000000     87.000000      3.000000   \n",
       "max      231.000000    237.000000    540.000000    102.000000   2941.000000   \n",
       "\n",
       "                 C2  ...          V312          V313          V314  \\\n",
       "count  76004.000000  ...  76004.000000  76004.000000  76004.000000   \n",
       "mean      10.738892  ...     42.282243     20.846230     43.042042   \n",
       "std       88.059386  ...    369.018795     90.064618    194.897973   \n",
       "min        0.000000  ...      0.000000      0.000000      0.000000   \n",
       "25%        1.000000  ...      0.000000      0.000000      0.000000   \n",
       "50%        1.000000  ...      0.000000      0.000000      0.000000   \n",
       "75%        3.000000  ...      0.000000      0.000000      0.000000   \n",
       "max     3259.000000  ...  50000.000000   4111.470215   7015.899902   \n",
       "\n",
       "               V315           V316           V317           V318  \\\n",
       "count  76004.000000   76004.000000   76004.000000   76004.000000   \n",
       "mean      26.339106      31.720222      70.074540      46.343413   \n",
       "std      111.314391    1133.936276    1255.558913    1178.480882   \n",
       "min        0.000000       0.000000       0.000000       0.000000   \n",
       "25%        0.000000       0.000000       0.000000       0.000000   \n",
       "50%        0.000000       0.000000       0.000000       0.000000   \n",
       "75%        0.000000       0.000000       0.000000       0.000000   \n",
       "max     4111.470215  273229.000000  273229.000000  273229.000000   \n",
       "\n",
       "               V319           V320           V321  \n",
       "count  76004.000000   76004.000000   76004.000000  \n",
       "mean      24.714282      49.201038      38.358270  \n",
       "std      546.494958    2296.916643    2264.495987  \n",
       "min        0.000000       0.000000       0.000000  \n",
       "25%        0.000000       0.000000       0.000000  \n",
       "50%        0.000000       0.000000       0.000000  \n",
       "75%        0.000000       0.000000       0.000000  \n",
       "max    84500.000000  605000.000000  605000.000000  \n",
       "\n",
       "[8 rows x 195 columns]"
      ]
     },
     "execution_count": 91,
     "metadata": {},
     "output_type": "execute_result"
    }
   ],
   "source": [
    "test.describe()"
   ]
  },
  {
   "cell_type": "code",
   "execution_count": 92,
   "metadata": {},
   "outputs": [
    {
     "name": "stdout",
     "output_type": "stream",
     "text": [
      "mean 134.65673764538008\n",
      "max 6197.36\n",
      "min 0.018\n",
      "mode 0    59.0\n",
      "dtype: float64\n",
      "median 67.95\n"
     ]
    }
   ],
   "source": [
    "# TransactionAmt have some outliers\n",
    "print('mean',test['TransactionAmt'].mean())\n",
    "print('max',test['TransactionAmt'].max())\n",
    "print('min',test['TransactionAmt'].min())\n",
    "print('mode',test['TransactionAmt'].mode())\n",
    "print('median',test['TransactionAmt'].median())"
   ]
  },
  {
   "cell_type": "code",
   "execution_count": 93,
   "metadata": {},
   "outputs": [
    {
     "data": {
      "text/plain": [
       "(1900, 199)"
      ]
     },
     "execution_count": 93,
     "metadata": {},
     "output_type": "execute_result"
    }
   ],
   "source": [
    "test[(test['TransactionAmt'] < test['TransactionAmt'].quantile(0.025))].shape"
   ]
  },
  {
   "cell_type": "code",
   "execution_count": 94,
   "metadata": {},
   "outputs": [
    {
     "data": {
      "text/plain": [
       "(1891, 199)"
      ]
     },
     "execution_count": 94,
     "metadata": {},
     "output_type": "execute_result"
    }
   ],
   "source": [
    "test[(test['TransactionAmt'] > test['TransactionAmt'].quantile(0.975))].shape"
   ]
  },
  {
   "cell_type": "code",
   "execution_count": 95,
   "metadata": {},
   "outputs": [
    {
     "data": {
      "text/plain": [
       "(1901, 199)"
      ]
     },
     "execution_count": 95,
     "metadata": {},
     "output_type": "execute_result"
    }
   ],
   "source": [
    "test[(test['TransactionDT'] < test['TransactionDT'].quantile(0.025))].shape"
   ]
  },
  {
   "cell_type": "code",
   "execution_count": 96,
   "metadata": {},
   "outputs": [
    {
     "data": {
      "text/plain": [
       "(1901, 199)"
      ]
     },
     "execution_count": 96,
     "metadata": {},
     "output_type": "execute_result"
    }
   ],
   "source": [
    "test[(test['TransactionDT'] > test['TransactionDT'].quantile(0.975))].shape"
   ]
  },
  {
   "cell_type": "code",
   "execution_count": 97,
   "metadata": {},
   "outputs": [],
   "source": [
    "# dropping outliers\n",
    "test.drop(test[(test['TransactionAmt'] > test['TransactionAmt'].quantile(0.975)) \n",
    "           | (test['TransactionAmt'] < test['TransactionAmt'].quantile(0.025))].index,inplace=True)\n",
    "test.drop(test[(test['TransactionDT'] > test['TransactionDT'].quantile(0.975)) \n",
    "           | (test['TransactionDT'] < test['TransactionDT'].quantile(0.025))].index, inplace=True)"
   ]
  },
  {
   "cell_type": "code",
   "execution_count": 98,
   "metadata": {},
   "outputs": [
    {
     "data": {
      "text/plain": [
       "(68601, 199)"
      ]
     },
     "execution_count": 98,
     "metadata": {},
     "output_type": "execute_result"
    }
   ],
   "source": [
    "test.shape"
   ]
  },
  {
   "cell_type": "code",
   "execution_count": 99,
   "metadata": {},
   "outputs": [
    {
     "data": {
      "text/plain": [
       "<AxesSubplot:xlabel='TransactionID'>"
      ]
     },
     "execution_count": 99,
     "metadata": {},
     "output_type": "execute_result"
    },
    {
     "data": {
      "image/png": "[encoded data removed]",
      "text/plain": [
       "<Figure size 432x288 with 1 Axes>"
      ]
     },
     "metadata": {
      "needs_background": "light"
     },
     "output_type": "display_data"
    }
   ],
   "source": [
    "# train, test Transaction Time diff\n",
    "df['TransactionDT'].plot()\n",
    "test['TransactionDT'].plot()"
   ]
  },
  {
   "cell_type": "code",
   "execution_count": 100,
   "metadata": {},
   "outputs": [
    {
     "data": {
      "text/plain": [
       "<AxesSubplot:xlabel='TransactionID'>"
      ]
     },
     "execution_count": 100,
     "metadata": {},
     "output_type": "execute_result"
    },
    {
     "data": {
      "image/png": "[encoded data removed]",
      "text/plain": [
       "<Figure size 432x288 with 1 Axes>"
      ]
     },
     "metadata": {
      "needs_background": "light"
     },
     "output_type": "display_data"
    }
   ],
   "source": [
    "df['TransactionAmt'].plot()\n",
    "test['TransactionAmt'].plot()"
   ]
  },
  {
   "cell_type": "code",
   "execution_count": 101,
   "metadata": {},
   "outputs": [],
   "source": [
    "# creating dummies\n",
    "df = pd.get_dummies(df)"
   ]
  },
  {
   "cell_type": "code",
   "execution_count": 102,
   "metadata": {},
   "outputs": [],
   "source": [
    "test = pd.get_dummies(test)"
   ]
  },
  {
   "cell_type": "code",
   "execution_count": 103,
   "metadata": {},
   "outputs": [],
   "source": [
    "# # save train,test with dummies as pickle\n",
    "import pickle \n",
    "pickle_out = open(\"datasets_modeling/train_dummy.pickle\",\"wb\")\n",
    "pickle.dump(df, pickle_out)\n",
    "\n",
    "pickle_out = open(\"datasets_modeling/test_dummy.pickle\",\"wb\")\n",
    "pickle.dump(test, pickle_out)\n",
    "pickle_out.close()"
   ]
  },
  {
   "cell_type": "code",
   "execution_count": 104,
   "metadata": {},
   "outputs": [
    {
     "data": {
      "text/plain": [
       "106"
      ]
     },
     "execution_count": 104,
     "metadata": {},
     "output_type": "execute_result"
    }
   ],
   "source": [
    "# del df, test\n",
    "gc.collect()"
   ]
  }
 ],
 "metadata": {
  "interpreter": {
   "hash": "ad2bdc8ecc057115af97d19610ffacc2b4e99fae6737bb82f5d7fb13d2f2c186"
  },
  "kernelspec": {
   "display_name": "Python 3.8.8 ('base')",
   "language": "python",
   "name": "python3"
  },
  "language_info": {
   "codemirror_mode": {
    "name": "ipython",
    "version": 3
   },
   "file_extension": ".py",
   "mimetype": "text/x-python",
   "name": "python",
   "nbconvert_exporter": "python",
   "pygments_lexer": "ipython3",
   "version": "3.8.8"
  }
 },
 "nbformat": 4,
 "nbformat_minor": 4
}
