{
 "cells": [
  {
   "cell_type": "markdown",
   "metadata": {},
   "source": [
    "## Modeling "
   ]
  },
  {
   "cell_type": "code",
   "execution_count": 105,
   "metadata": {},
   "outputs": [],
   "source": [
    "# basic packages\n",
    "import pandas as pd\n",
    "import numpy as np\n",
    "import gc\n",
    "import matplotlib.pyplot as plt"
   ]
  },
  {
   "cell_type": "code",
   "execution_count": 106,
   "metadata": {},
   "outputs": [],
   "source": [
    "df = pd.read_pickle('datasets_modeling/train_dummy.pickle')\n",
    "test = pd.read_pickle('datasets_modeling/test_dummy.pickle')"
   ]
  },
  {
   "cell_type": "code",
   "execution_count": 107,
   "metadata": {},
   "outputs": [],
   "source": [
    "# sklearn\n",
    "from sklearn.model_selection import train_test_split\n",
    "from sklearn.ensemble import RandomForestClassifier\n",
    "from sklearn.preprocessing import StandardScaler\n",
    "from sklearn.metrics import f1_score,roc_auc_score, recall_score\n",
    "from sklearn.metrics import precision_score, accuracy_score, confusion_matrix\n",
    "from sklearn.metrics import classification_report"
   ]
  },
  {
   "cell_type": "code",
   "execution_count": 108,
   "metadata": {},
   "outputs": [],
   "source": [
    "# target, X\n",
    "y = df['isFraud']\n",
    "X = df.drop('isFraud',axis=1)"
   ]
  },
  {
   "cell_type": "code",
   "execution_count": 109,
   "metadata": {},
   "outputs": [],
   "source": [
    "# feature selection with XGBoost\n",
    "\n",
    "from xgboost import XGBClassifier\n",
    "from sklearn.feature_selection import SelectFromModel\n",
    "from xgboost import plot_importance\n",
    "\n",
    "clf = XGBClassifier(n_estimators=100)\n",
    "clf = clf.fit(X, y)\n",
    "\n"
   ]
  },
  {
   "cell_type": "code",
   "execution_count": 110,
   "metadata": {},
   "outputs": [
    {
     "data": {
      "image/png": "[encoded data removed]",
      "text/plain": [
       "<Figure size 432x288 with 1 Axes>"
      ]
     },
     "metadata": {
      "needs_background": "light"
     },
     "output_type": "display_data"
    }
   ],
   "source": [
    "plot_importance(clf,max_num_features=20)\n",
    "plt.show()"
   ]
  },
  {
   "cell_type": "code",
   "execution_count": 111,
   "metadata": {},
   "outputs": [
    {
     "name": "stderr",
     "output_type": "stream",
     "text": [
      "c:\\ProgramData\\Anaconda3\\lib\\site-packages\\sklearn\\base.py:443: UserWarning: X has feature names, but SelectFromModel was fitted without feature names\n",
      "  warnings.warn(\n"
     ]
    },
    {
     "data": {
      "text/plain": [
       "(79958, 211)"
      ]
     },
     "execution_count": 111,
     "metadata": {},
     "output_type": "execute_result"
    }
   ],
   "source": [
    "# # Select From Model\n",
    "model = SelectFromModel(clf, prefit=True)\n",
    "X_new = model.transform(X)\n",
    "X_new.shape        "
   ]
  },
  {
   "cell_type": "code",
   "execution_count": 112,
   "metadata": {},
   "outputs": [],
   "source": [
    "# save selected features\n",
    "import pickle \n",
    "pickle_out = open(\"datasets_modeling/X_new.pickle\",\"wb\")\n",
    "pickle.dump(X_new, pickle_out)\n",
    "pickle_out.close()"
   ]
  },
  {
   "cell_type": "code",
   "execution_count": 113,
   "metadata": {},
   "outputs": [
    {
     "data": {
      "text/plain": [
       "(79958, 211)"
      ]
     },
     "execution_count": 113,
     "metadata": {},
     "output_type": "execute_result"
    }
   ],
   "source": [
    "X_new = pd.read_pickle('datasets_modeling/X_new.pickle')\n",
    "X_new.shape"
   ]
  },
  {
   "cell_type": "code",
   "execution_count": 114,
   "metadata": {},
   "outputs": [],
   "source": [
    "X_train,X_test,y_train,y_test = train_test_split(X_new,y,test_size=0.2,random_state=1)"
   ]
  },
  {
   "cell_type": "markdown",
   "metadata": {},
   "source": [
    "Synthetic minority over sampling technique — SMOTE - An approach to the construction of classifiers from imbalanced datasets is described"
   ]
  },
  {
   "cell_type": "code",
   "execution_count": 115,
   "metadata": {},
   "outputs": [
    {
     "name": "stdout",
     "output_type": "stream",
     "text": [
      "[1]\tvalid_0's auc: 0.975427\n",
      "[2]\tvalid_0's auc: 0.975917\n",
      "[3]\tvalid_0's auc: 0.979638\n",
      "[4]\tvalid_0's auc: 0.986244\n",
      "[5]\tvalid_0's auc: 0.986381\n",
      "[6]\tvalid_0's auc: 0.986583\n",
      "[7]\tvalid_0's auc: 0.986387\n",
      "[8]\tvalid_0's auc: 0.986753\n",
      "[9]\tvalid_0's auc: 0.987053\n",
      "[10]\tvalid_0's auc: 0.987058\n",
      "[11]\tvalid_0's auc: 0.987013\n",
      "[12]\tvalid_0's auc: 0.987063\n",
      "[13]\tvalid_0's auc: 0.987069\n",
      "[14]\tvalid_0's auc: 0.987352\n",
      "[15]\tvalid_0's auc: 0.98751\n",
      "[16]\tvalid_0's auc: 0.987525\n",
      "[17]\tvalid_0's auc: 0.987542\n",
      "[18]\tvalid_0's auc: 0.987484\n",
      "[19]\tvalid_0's auc: 0.987728\n",
      "[20]\tvalid_0's auc: 0.987816\n",
      "[21]\tvalid_0's auc: 0.988597\n",
      "[22]\tvalid_0's auc: 0.988634\n",
      "[23]\tvalid_0's auc: 0.98882\n",
      "[24]\tvalid_0's auc: 0.988857\n",
      "[25]\tvalid_0's auc: 0.988858\n",
      "[26]\tvalid_0's auc: 0.98886\n",
      "[27]\tvalid_0's auc: 0.989938\n",
      "[28]\tvalid_0's auc: 0.990116\n",
      "[29]\tvalid_0's auc: 0.990301\n",
      "[30]\tvalid_0's auc: 0.990422\n",
      "[31]\tvalid_0's auc: 0.990422\n",
      "[32]\tvalid_0's auc: 0.99065\n",
      "[33]\tvalid_0's auc: 0.990737\n",
      "[34]\tvalid_0's auc: 0.990942\n",
      "[35]\tvalid_0's auc: 0.99103\n",
      "[36]\tvalid_0's auc: 0.991192\n",
      "[37]\tvalid_0's auc: 0.991293\n",
      "[38]\tvalid_0's auc: 0.991361\n",
      "[39]\tvalid_0's auc: 0.991566\n",
      "[40]\tvalid_0's auc: 0.991929\n",
      "[41]\tvalid_0's auc: 0.992259\n",
      "[42]\tvalid_0's auc: 0.992319\n",
      "[43]\tvalid_0's auc: 0.99244\n",
      "[44]\tvalid_0's auc: 0.99252\n",
      "[45]\tvalid_0's auc: 0.992533\n",
      "[46]\tvalid_0's auc: 0.992572\n",
      "[47]\tvalid_0's auc: 0.99287\n",
      "[48]\tvalid_0's auc: 0.992947\n",
      "[49]\tvalid_0's auc: 0.993032\n",
      "[50]\tvalid_0's auc: 0.993083\n",
      "[51]\tvalid_0's auc: 0.993135\n",
      "[52]\tvalid_0's auc: 0.993185\n",
      "[53]\tvalid_0's auc: 0.993268\n",
      "[54]\tvalid_0's auc: 0.993351\n",
      "[55]\tvalid_0's auc: 0.993402\n",
      "[56]\tvalid_0's auc: 0.993487\n",
      "[57]\tvalid_0's auc: 0.993557\n",
      "[58]\tvalid_0's auc: 0.993606\n",
      "[59]\tvalid_0's auc: 0.993653\n",
      "[60]\tvalid_0's auc: 0.993696\n",
      "[61]\tvalid_0's auc: 0.993747\n",
      "[62]\tvalid_0's auc: 0.993797\n",
      "[63]\tvalid_0's auc: 0.993831\n",
      "[64]\tvalid_0's auc: 0.993902\n",
      "[65]\tvalid_0's auc: 0.993923\n",
      "[66]\tvalid_0's auc: 0.993948\n",
      "[67]\tvalid_0's auc: 0.994047\n",
      "[68]\tvalid_0's auc: 0.994119\n",
      "[69]\tvalid_0's auc: 0.994139\n",
      "[70]\tvalid_0's auc: 0.994256\n",
      "[71]\tvalid_0's auc: 0.994286\n",
      "[72]\tvalid_0's auc: 0.994367\n",
      "[73]\tvalid_0's auc: 0.994431\n",
      "[74]\tvalid_0's auc: 0.994474\n",
      "[75]\tvalid_0's auc: 0.994508\n",
      "[76]\tvalid_0's auc: 0.994545\n",
      "[77]\tvalid_0's auc: 0.994579\n",
      "[78]\tvalid_0's auc: 0.994666\n",
      "[79]\tvalid_0's auc: 0.994721\n",
      "[80]\tvalid_0's auc: 0.994738\n",
      "[81]\tvalid_0's auc: 0.994759\n",
      "[82]\tvalid_0's auc: 0.994791\n",
      "[83]\tvalid_0's auc: 0.994806\n",
      "[84]\tvalid_0's auc: 0.994886\n",
      "[85]\tvalid_0's auc: 0.994903\n",
      "[86]\tvalid_0's auc: 0.994999\n",
      "[87]\tvalid_0's auc: 0.995034\n",
      "[88]\tvalid_0's auc: 0.995112\n",
      "[89]\tvalid_0's auc: 0.995146\n",
      "[90]\tvalid_0's auc: 0.995215\n",
      "[91]\tvalid_0's auc: 0.995259\n",
      "[92]\tvalid_0's auc: 0.99529\n",
      "[93]\tvalid_0's auc: 0.9953\n",
      "[94]\tvalid_0's auc: 0.995328\n",
      "[95]\tvalid_0's auc: 0.995332\n",
      "[96]\tvalid_0's auc: 0.995385\n",
      "[97]\tvalid_0's auc: 0.995405\n",
      "[98]\tvalid_0's auc: 0.995438\n",
      "[99]\tvalid_0's auc: 0.995465\n",
      "[100]\tvalid_0's auc: 0.995511\n",
      "Fitting 3 folds for each of 20 candidates, totalling 60 fits\n"
     ]
    },
    {
     "data": {
      "text/html": [
       "<style>#sk-container-id-2 {color: black;background-color: white;}#sk-container-id-2 pre{padding: 0;}#sk-container-id-2 div.sk-toggleable {background-color: white;}#sk-container-id-2 label.sk-toggleable__label {cursor: pointer;display: block;width: 100%;margin-bottom: 0;padding: 0.3em;box-sizing: border-box;text-align: center;}#sk-container-id-2 label.sk-toggleable__label-arrow:before {content: \"▸\";float: left;margin-right: 0.25em;color: #696969;}#sk-container-id-2 label.sk-toggleable__label-arrow:hover:before {color: black;}#sk-container-id-2 div.sk-estimator:hover label.sk-toggleable__label-arrow:before {color: black;}#sk-container-id-2 div.sk-toggleable__content {max-height: 0;max-width: 0;overflow: hidden;text-align: left;background-color: #f0f8ff;}#sk-container-id-2 div.sk-toggleable__content pre {margin: 0.2em;color: black;border-radius: 0.25em;background-color: #f0f8ff;}#sk-container-id-2 input.sk-toggleable__control:checked~div.sk-toggleable__content {max-height: 200px;max-width: 100%;overflow: auto;}#sk-container-id-2 input.sk-toggleable__control:checked~label.sk-toggleable__label-arrow:before {content: \"▾\";}#sk-container-id-2 div.sk-estimator input.sk-toggleable__control:checked~label.sk-toggleable__label {background-color: #d4ebff;}#sk-container-id-2 div.sk-label input.sk-toggleable__control:checked~label.sk-toggleable__label {background-color: #d4ebff;}#sk-container-id-2 input.sk-hidden--visually {border: 0;clip: rect(1px 1px 1px 1px);clip: rect(1px, 1px, 1px, 1px);height: 1px;margin: -1px;overflow: hidden;padding: 0;position: absolute;width: 1px;}#sk-container-id-2 div.sk-estimator {font-family: monospace;background-color: #f0f8ff;border: 1px dotted black;border-radius: 0.25em;box-sizing: border-box;margin-bottom: 0.5em;}#sk-container-id-2 div.sk-estimator:hover {background-color: #d4ebff;}#sk-container-id-2 div.sk-parallel-item::after {content: \"\";width: 100%;border-bottom: 1px solid gray;flex-grow: 1;}#sk-container-id-2 div.sk-label:hover label.sk-toggleable__label {background-color: #d4ebff;}#sk-container-id-2 div.sk-serial::before {content: \"\";position: absolute;border-left: 1px solid gray;box-sizing: border-box;top: 0;bottom: 0;left: 50%;z-index: 0;}#sk-container-id-2 div.sk-serial {display: flex;flex-direction: column;align-items: center;background-color: white;padding-right: 0.2em;padding-left: 0.2em;position: relative;}#sk-container-id-2 div.sk-item {position: relative;z-index: 1;}#sk-container-id-2 div.sk-parallel {display: flex;align-items: stretch;justify-content: center;background-color: white;position: relative;}#sk-container-id-2 div.sk-item::before, #sk-container-id-2 div.sk-parallel-item::before {content: \"\";position: absolute;border-left: 1px solid gray;box-sizing: border-box;top: 0;bottom: 0;left: 50%;z-index: -1;}#sk-container-id-2 div.sk-parallel-item {display: flex;flex-direction: column;z-index: 1;position: relative;background-color: white;}#sk-container-id-2 div.sk-parallel-item:first-child::after {align-self: flex-end;width: 50%;}#sk-container-id-2 div.sk-parallel-item:last-child::after {align-self: flex-start;width: 50%;}#sk-container-id-2 div.sk-parallel-item:only-child::after {width: 0;}#sk-container-id-2 div.sk-dashed-wrapped {border: 1px dashed gray;margin: 0 0.4em 0.5em 0.4em;box-sizing: border-box;padding-bottom: 0.4em;background-color: white;}#sk-container-id-2 div.sk-label label {font-family: monospace;font-weight: bold;display: inline-block;line-height: 1.2em;}#sk-container-id-2 div.sk-label-container {text-align: center;}#sk-container-id-2 div.sk-container {/* jupyter's `normalize.less` sets `[hidden] { display: none; }` but bootstrap.min.css set `[hidden] { display: none !important; }` so we also need the `!important` here to be able to override the default hidden behavior on the sphinx rendered scikit-learn.org. See: https://github.com/scikit-learn/scikit-learn/issues/21755 */display: inline-block !important;position: relative;}#sk-container-id-2 div.sk-text-repr-fallback {display: none;}</style><div id=\"sk-container-id-2\" class=\"sk-top-container\"><div class=\"sk-text-repr-fallback\"><pre>GridSearchCV(cv=3,\n",
       "             estimator=LGBMClassifier(bagging_fraction=0.8, bagging_freq=15,\n",
       "                                      feature_fraction=0.5, is_unbalance=True,\n",
       "                                      learning_rate=0.01, max_depth=8,\n",
       "                                      metrics=&#x27;auc&#x27;, n_estimators=50,\n",
       "                                      num_leaves=30, random_state=10),\n",
       "             n_jobs=4,\n",
       "             param_grid={&#x27;n_estimators&#x27;: range(200, 600, 80),\n",
       "                         &#x27;num_leaves&#x27;: range(20, 60, 10)},\n",
       "             scoring=&#x27;roc_auc&#x27;, verbose=1)</pre><b>In a Jupyter environment, please rerun this cell to show the HTML representation or trust the notebook. <br />On GitHub, the HTML representation is unable to render, please try loading this page with nbviewer.org.</b></div><div class=\"sk-container\" hidden><div class=\"sk-item sk-dashed-wrapped\"><div class=\"sk-label-container\"><div class=\"sk-label sk-toggleable\"><input class=\"sk-toggleable__control sk-hidden--visually\" id=\"sk-estimator-id-4\" type=\"checkbox\" ><label for=\"sk-estimator-id-4\" class=\"sk-toggleable__label sk-toggleable__label-arrow\">GridSearchCV</label><div class=\"sk-toggleable__content\"><pre>GridSearchCV(cv=3,\n",
       "             estimator=LGBMClassifier(bagging_fraction=0.8, bagging_freq=15,\n",
       "                                      feature_fraction=0.5, is_unbalance=True,\n",
       "                                      learning_rate=0.01, max_depth=8,\n",
       "                                      metrics=&#x27;auc&#x27;, n_estimators=50,\n",
       "                                      num_leaves=30, random_state=10),\n",
       "             n_jobs=4,\n",
       "             param_grid={&#x27;n_estimators&#x27;: range(200, 600, 80),\n",
       "                         &#x27;num_leaves&#x27;: range(20, 60, 10)},\n",
       "             scoring=&#x27;roc_auc&#x27;, verbose=1)</pre></div></div></div><div class=\"sk-parallel\"><div class=\"sk-parallel-item\"><div class=\"sk-item\"><div class=\"sk-label-container\"><div class=\"sk-label sk-toggleable\"><input class=\"sk-toggleable__control sk-hidden--visually\" id=\"sk-estimator-id-5\" type=\"checkbox\" ><label for=\"sk-estimator-id-5\" class=\"sk-toggleable__label sk-toggleable__label-arrow\">estimator: LGBMClassifier</label><div class=\"sk-toggleable__content\"><pre>LGBMClassifier(bagging_fraction=0.8, bagging_freq=15, feature_fraction=0.5,\n",
       "               is_unbalance=True, learning_rate=0.01, max_depth=8,\n",
       "               metrics=&#x27;auc&#x27;, n_estimators=50, num_leaves=30, random_state=10)</pre></div></div></div><div class=\"sk-serial\"><div class=\"sk-item\"><div class=\"sk-estimator sk-toggleable\"><input class=\"sk-toggleable__control sk-hidden--visually\" id=\"sk-estimator-id-6\" type=\"checkbox\" ><label for=\"sk-estimator-id-6\" class=\"sk-toggleable__label sk-toggleable__label-arrow\">LGBMClassifier</label><div class=\"sk-toggleable__content\"><pre>LGBMClassifier(bagging_fraction=0.8, bagging_freq=15, feature_fraction=0.5,\n",
       "               is_unbalance=True, learning_rate=0.01, max_depth=8,\n",
       "               metrics=&#x27;auc&#x27;, n_estimators=50, num_leaves=30, random_state=10)</pre></div></div></div></div></div></div></div></div></div></div>"
      ],
      "text/plain": [
       "GridSearchCV(cv=3,\n",
       "             estimator=LGBMClassifier(bagging_fraction=0.8, bagging_freq=15,\n",
       "                                      feature_fraction=0.5, is_unbalance=True,\n",
       "                                      learning_rate=0.01, max_depth=8,\n",
       "                                      metrics='auc', n_estimators=50,\n",
       "                                      num_leaves=30, random_state=10),\n",
       "             n_jobs=4,\n",
       "             param_grid={'n_estimators': range(200, 600, 80),\n",
       "                         'num_leaves': range(20, 60, 10)},\n",
       "             scoring='roc_auc', verbose=1)"
      ]
     },
     "execution_count": 115,
     "metadata": {},
     "output_type": "execute_result"
    }
   ],
   "source": [
    "# light gbm grid search\n",
    "\n",
    "import pandas as pd\n",
    "from sklearn.metrics import roc_auc_score\n",
    "import lightgbm as lgb\n",
    "import matplotlib.pyplot as plt\n",
    "\n",
    "# sklearn tools for model training and assesment\n",
    "from sklearn.model_selection import train_test_split\n",
    "from sklearn.model_selection import PredefinedSplit\n",
    "from sklearn.model_selection import GridSearchCV, ParameterGrid\n",
    "from sklearn.metrics import (roc_curve, auc, accuracy_score)\n",
    "from imblearn.over_sampling import SMOTE\n",
    "\n",
    "\n",
    "\n",
    "y = df['isFraud']\n",
    "X = pd.read_pickle('datasets_modeling/X_new.pickle')\n",
    "\n",
    "smt = SMOTE(sampling_strategy='minority',random_state=1)\n",
    "X_resampled, y_resampled = smt.fit_resample(X, y)\n",
    "\n",
    "X_train,X_test,y_train,y_test = train_test_split(X_resampled,\n",
    "                                                 y_resampled,\n",
    "                                                 test_size=0.2,\n",
    "                                                 random_state=1)\n",
    "\n",
    "lgb_train = lgb.Dataset(X_train, y_train)\n",
    "lgb_eval = lgb.Dataset(X_test, y_test, reference=lgb_train)\n",
    "\n",
    "params = {'num_leaves':60,\n",
    "        'min_child_samples': 30,\n",
    "        'boosting_type': 'gbdt',\n",
    "        'objective': 'binary',\n",
    "        'objective': 'binary',\n",
    "        'max_depth': 13,\n",
    "        'learning_rate': 0.03,\n",
    "        \"subsample_freq\": 3,\n",
    "        \"subsample\": 0.9,\n",
    "        \"bagging_seed\": 11,\n",
    "        \"metric\": 'auc',\n",
    "        \"verbosity\": -1,\n",
    "        'reg_alpha': 0.3,\n",
    "        'reg_lambda': 0.3,\n",
    "        'colsample_bytree': 0.9,\n",
    "}\n",
    "\n",
    "gbm = lgb.train(params,\n",
    "                lgb_train,\n",
    "                valid_sets=lgb_eval)\n",
    "\n",
    "\n",
    "model = lgb.LGBMClassifier( \n",
    "    boosting_type=\"gbdt\",\n",
    "    metrics='auc',\n",
    "    is_unbalance=True, \n",
    "    random_state=10, \n",
    "    n_estimators=50,\n",
    "    num_leaves=30, \n",
    "    max_depth=8,\n",
    "    feature_fraction=0.5,  \n",
    "    bagging_fraction=0.8, \n",
    "    bagging_freq=15, \n",
    "    learning_rate=0.01,    \n",
    ")\n",
    "scoring = {'AUC': 'roc_auc'}\n",
    "\n",
    "# Create the grid\n",
    "\n",
    "params_opt = {'n_estimators':range(200, 600, 80), 'num_leaves':range(20,60,10)}\n",
    "gridSearchCV = GridSearchCV(estimator = model, \n",
    "    param_grid = params_opt, \n",
    "    scoring='roc_auc',\n",
    "    n_jobs=4,\n",
    "    #iid=False, \n",
    "    verbose=1,\n",
    "    cv=3)\n",
    "\n",
    "gridSearchCV.fit(X_train,y_train,)"
   ]
  },
  {
   "cell_type": "code",
   "execution_count": 116,
   "metadata": {},
   "outputs": [
    {
     "name": "stdout",
     "output_type": "stream",
     "text": [
      "Best parameters found by grid search are: {'n_estimators': 520, 'num_leaves': 50}\n",
      "Best score found by grid search is: 0.9964206358603662\n",
      "[[15318    68]\n",
      " [  380 15146]]\n",
      "Recall 0.9755249259306968\n",
      "Precision 0.995530432496385\n",
      "AUC_ROC 0.985552661847449\n",
      "              precision    recall  f1-score   support\n",
      "\n",
      "           0       0.98      1.00      0.99     15386\n",
      "           1       1.00      0.98      0.99     15526\n",
      "\n",
      "    accuracy                           0.99     30912\n",
      "   macro avg       0.99      0.99      0.99     30912\n",
      "weighted avg       0.99      0.99      0.99     30912\n",
      "\n",
      "0.9855072463768116\n"
     ]
    }
   ],
   "source": [
    "print('Best parameters found by grid search are:', gridSearchCV.best_params_)\n",
    "print('Best score found by grid search is:', gridSearchCV.best_score_)\n",
    "\n",
    "y_hat = gridSearchCV.predict(X_test)\n",
    "\n",
    "print(confusion_matrix(y_test, y_hat))\n",
    "print('Recall', recall_score(y_test,y_hat))\n",
    "print('Precision',precision_score(y_test,y_hat))\n",
    "print('AUC_ROC',roc_auc_score(y_test,y_hat))\n",
    "print(classification_report(y_test, y_hat))\n",
    "print(accuracy_score(y_test,y_hat))"
   ]
  },
  {
   "cell_type": "code",
   "execution_count": 117,
   "metadata": {},
   "outputs": [
    {
     "name": "stdout",
     "output_type": "stream",
     "text": [
      "[LightGBM] [Warning] feature_fraction is set=0.5, colsample_bytree=1.0 will be ignored. Current value: feature_fraction=0.5\n",
      "[LightGBM] [Warning] bagging_fraction is set=0.8, subsample=1.0 will be ignored. Current value: bagging_fraction=0.8\n",
      "[LightGBM] [Warning] bagging_freq is set=15, subsample_freq=0 will be ignored. Current value: bagging_freq=15\n",
      "[[15316    70]\n",
      " [  383 15143]]\n",
      "Recall 0.9753317016617287\n",
      "Precision 0.9953986721882601\n",
      "AUC_ROC 0.9853910555624386\n",
      "              precision    recall  f1-score   support\n",
      "\n",
      "           0       0.98      1.00      0.99     15386\n",
      "           1       1.00      0.98      0.99     15526\n",
      "\n",
      "    accuracy                           0.99     30912\n",
      "   macro avg       0.99      0.99      0.99     30912\n",
      "weighted avg       0.99      0.99      0.99     30912\n",
      "\n",
      "0.98534549689441\n"
     ]
    }
   ],
   "source": [
    "# light gbm grid search\n",
    "\n",
    "import pandas as pd\n",
    "from sklearn.metrics import roc_auc_score\n",
    "import lightgbm as lgb\n",
    "import matplotlib.pyplot as plt\n",
    "\n",
    "# sklearn tools for model training and assesment\n",
    "from sklearn.model_selection import train_test_split\n",
    "from sklearn.model_selection import PredefinedSplit\n",
    "from sklearn.model_selection import GridSearchCV, ParameterGrid\n",
    "from sklearn.metrics import (roc_curve, auc, accuracy_score)\n",
    "from imblearn.over_sampling import SMOTE\n",
    "\n",
    "\n",
    "\n",
    "y = df['isFraud']\n",
    "X = pd.read_pickle('datasets_modeling/X_new.pickle')\n",
    "\n",
    "smt = SMOTE(sampling_strategy='minority',random_state=1)\n",
    "X_resampled, y_resampled = smt.fit_resample(X, y)\n",
    "\n",
    "X_train,X_test,y_train,y_test = train_test_split(X_resampled,\n",
    "                                                 y_resampled,\n",
    "                                                 test_size=0.2,\n",
    "                                                 random_state=1)\n",
    "\n",
    "lgb_train = lgb.Dataset(X_train, y_train)\n",
    "lgb_eval = lgb.Dataset(X_test, y_test, reference=lgb_train)\n",
    "\n",
    "\n",
    "model = lgb.LGBMClassifier( \n",
    "    boosting_type=\"gbdt\",\n",
    "    metrics='auc',\n",
    "    is_unbalance=False, \n",
    "    random_state=10, \n",
    "    n_estimators=520,\n",
    "    num_leaves=50, \n",
    "    max_depth=8,\n",
    "    feature_fraction=0.5,  \n",
    "    bagging_fraction=0.8, \n",
    "    bagging_freq=15, \n",
    "    learning_rate=0.01,    \n",
    ")\n",
    "scoring = {'AUC': 'roc_auc'}\n",
    "\n",
    "model.fit(X_train,y_train)\n",
    "y_hat = model.predict(X_test)\n",
    "\n",
    "print(confusion_matrix(y_test, y_hat))\n",
    "print('Recall', recall_score(y_test,y_hat))\n",
    "print('Precision',precision_score(y_test,y_hat))\n",
    "print('AUC_ROC',roc_auc_score(y_test,y_hat))\n",
    "print(classification_report(y_test, y_hat))\n",
    "print(accuracy_score(y_test,y_hat))"
   ]
  },
  {
   "cell_type": "code",
   "execution_count": 118,
   "metadata": {},
   "outputs": [
    {
     "name": "stdout",
     "output_type": "stream",
     "text": [
      "[[15374    12]\n",
      " [15499    27]]\n",
      "Recall 0.0017390184207136416\n",
      "Precision 0.6923076923076923\n",
      "AUC_ROC 0.500479544307198\n",
      "              precision    recall  f1-score   support\n",
      "\n",
      "           0       0.50      1.00      0.66     15386\n",
      "           1       0.69      0.00      0.00     15526\n",
      "\n",
      "    accuracy                           0.50     30912\n",
      "   macro avg       0.60      0.50      0.33     30912\n",
      "weighted avg       0.60      0.50      0.33     30912\n",
      "\n",
      "0.49822075569358176\n"
     ]
    },
    {
     "name": "stderr",
     "output_type": "stream",
     "text": [
      "c:\\ProgramData\\Anaconda3\\lib\\site-packages\\sklearn\\svm\\_base.py:1225: ConvergenceWarning: Liblinear failed to converge, increase the number of iterations.\n",
      "  warnings.warn(\n"
     ]
    }
   ],
   "source": [
    "# resampling with RandomOverSampler, SVM\n",
    "\n",
    "from imblearn.over_sampling import RandomOverSampler\n",
    "from sklearn.svm import LinearSVC\n",
    "\n",
    "ros = RandomOverSampler(random_state=0) #resampling\n",
    "X_resampled, y_resampled = ros.fit_resample(X_train, y_train)\n",
    "\n",
    "clf = LinearSVC() # fitting\n",
    "clf.fit(X_resampled, y_resampled)\n",
    "y_pred=clf.predict(X_test)\n",
    "\n",
    "#scores\n",
    "print(confusion_matrix(y_test, y_pred))\n",
    "print('Recall', recall_score(y_test,y_pred))\n",
    "print('Precision',precision_score(y_test,y_pred))\n",
    "print('AUC_ROC',roc_auc_score(y_test,y_pred))\n",
    "print(classification_report(y_test, y_pred))\n",
    "print(accuracy_score(y_test,y_pred))"
   ]
  },
  {
   "cell_type": "code",
   "execution_count": 119,
   "metadata": {},
   "outputs": [
    {
     "name": "stdout",
     "output_type": "stream",
     "text": [
      "[[15337    49]\n",
      " [  298 15228]]\n",
      "Recall 0.9808063892824939\n",
      "Precision 0.9967925639850757\n",
      "AUC_ROC 0.9888108379533489\n",
      "              precision    recall  f1-score   support\n",
      "\n",
      "           0       0.98      1.00      0.99     15386\n",
      "           1       1.00      0.98      0.99     15526\n",
      "\n",
      "    accuracy                           0.99     30912\n",
      "   macro avg       0.99      0.99      0.99     30912\n",
      "weighted avg       0.99      0.99      0.99     30912\n",
      "\n",
      "0.988774585921325\n"
     ]
    }
   ],
   "source": [
    "# XGboost, SMOTE\n",
    "from xgboost import XGBClassifier\n",
    "from imblearn.pipeline import Pipeline\n",
    "\n",
    "clf = XGBClassifier(n_estimators=100)\n",
    "smt = SMOTE(random_state=42)\n",
    "\n",
    "pipeline = Pipeline([('smt', smt), ('xgboost', clf)])\n",
    "\n",
    "clf = clf.fit(X_train, y_train)\n",
    "y_pred = clf.predict(X_test)\n",
    "\n",
    "\n",
    "print(confusion_matrix(y_test, y_pred))\n",
    "print('Recall', recall_score(y_test,y_pred))\n",
    "print('Precision',precision_score(y_test,y_pred))\n",
    "print('AUC_ROC',roc_auc_score(y_test,y_pred))\n",
    "print(classification_report(y_test, y_pred))\n",
    "print(accuracy_score(y_pred,y_test))"
   ]
  }
 ],
 "metadata": {
  "interpreter": {
   "hash": "ad2bdc8ecc057115af97d19610ffacc2b4e99fae6737bb82f5d7fb13d2f2c186"
  },
  "kernelspec": {
   "display_name": "Python 3.8.8 ('base')",
   "language": "python",
   "name": "python3"
  },
  "language_info": {
   "codemirror_mode": {
    "name": "ipython",
    "version": 3
   },
   "file_extension": ".py",
   "mimetype": "text/x-python",
   "name": "python",
   "nbconvert_exporter": "python",
   "pygments_lexer": "ipython3",
   "version": "3.8.8"
  }
 },
 "nbformat": 4,
 "nbformat_minor": 4
}
